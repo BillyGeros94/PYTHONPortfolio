{
 "cells": [
  {
   "cell_type": "code",
   "execution_count": 1903,
   "id": "8cbfca06-c417-4c4e-872d-8a748ea4e43f",
   "metadata": {},
   "outputs": [],
   "source": [
    "import numpy as np\n",
    "import pandas as pd\n",
    "import seaborn as sns\n",
    "import matplotlib.pyplot as plt"
   ]
  },
  {
   "cell_type": "code",
   "execution_count": 1905,
   "id": "f900b4e1-0962-42d0-beca-6eb5667194a4",
   "metadata": {},
   "outputs": [],
   "source": [
    "df = pd.read_csv(r'C:\\Users\\Vasilis\\Downloads\\financial_risk_assessment.csv')"
   ]
  },
  {
   "cell_type": "code",
   "execution_count": 1907,
   "id": "49b5b666-d609-4f7e-a07e-97d7375ab617",
   "metadata": {},
   "outputs": [
    {
     "data": {
      "text/html": [
       "<div>\n",
       "<style scoped>\n",
       "    .dataframe tbody tr th:only-of-type {\n",
       "        vertical-align: middle;\n",
       "    }\n",
       "\n",
       "    .dataframe tbody tr th {\n",
       "        vertical-align: top;\n",
       "    }\n",
       "\n",
       "    .dataframe thead th {\n",
       "        text-align: right;\n",
       "    }\n",
       "</style>\n",
       "<table border=\"1\" class=\"dataframe\">\n",
       "  <thead>\n",
       "    <tr style=\"text-align: right;\">\n",
       "      <th></th>\n",
       "      <th>Age</th>\n",
       "      <th>Gender</th>\n",
       "      <th>Education Level</th>\n",
       "      <th>Marital Status</th>\n",
       "      <th>Income</th>\n",
       "      <th>Credit Score</th>\n",
       "      <th>Loan Amount</th>\n",
       "      <th>Loan Purpose</th>\n",
       "      <th>Employment Status</th>\n",
       "      <th>Years at Current Job</th>\n",
       "      <th>Payment History</th>\n",
       "      <th>Debt-to-Income Ratio</th>\n",
       "      <th>Assets Value</th>\n",
       "      <th>Number of Dependents</th>\n",
       "      <th>City</th>\n",
       "      <th>State</th>\n",
       "      <th>Country</th>\n",
       "      <th>Previous Defaults</th>\n",
       "      <th>Marital Status Change</th>\n",
       "      <th>Risk Rating</th>\n",
       "    </tr>\n",
       "  </thead>\n",
       "  <tbody>\n",
       "    <tr>\n",
       "      <th>0</th>\n",
       "      <td>49</td>\n",
       "      <td>Male</td>\n",
       "      <td>PhD</td>\n",
       "      <td>Divorced</td>\n",
       "      <td>72799.0</td>\n",
       "      <td>688.0</td>\n",
       "      <td>45713.0</td>\n",
       "      <td>Business</td>\n",
       "      <td>Unemployed</td>\n",
       "      <td>19</td>\n",
       "      <td>Poor</td>\n",
       "      <td>0.154313</td>\n",
       "      <td>120228.0</td>\n",
       "      <td>0.0</td>\n",
       "      <td>Port Elizabeth</td>\n",
       "      <td>AS</td>\n",
       "      <td>Cyprus</td>\n",
       "      <td>2.0</td>\n",
       "      <td>2</td>\n",
       "      <td>Low</td>\n",
       "    </tr>\n",
       "    <tr>\n",
       "      <th>1</th>\n",
       "      <td>57</td>\n",
       "      <td>Female</td>\n",
       "      <td>Bachelor's</td>\n",
       "      <td>Widowed</td>\n",
       "      <td>NaN</td>\n",
       "      <td>690.0</td>\n",
       "      <td>33835.0</td>\n",
       "      <td>Auto</td>\n",
       "      <td>Employed</td>\n",
       "      <td>6</td>\n",
       "      <td>Fair</td>\n",
       "      <td>0.148920</td>\n",
       "      <td>55849.0</td>\n",
       "      <td>0.0</td>\n",
       "      <td>North Catherine</td>\n",
       "      <td>OH</td>\n",
       "      <td>Turkmenistan</td>\n",
       "      <td>3.0</td>\n",
       "      <td>2</td>\n",
       "      <td>Medium</td>\n",
       "    </tr>\n",
       "    <tr>\n",
       "      <th>2</th>\n",
       "      <td>21</td>\n",
       "      <td>Non-binary</td>\n",
       "      <td>Master's</td>\n",
       "      <td>Single</td>\n",
       "      <td>55687.0</td>\n",
       "      <td>600.0</td>\n",
       "      <td>36623.0</td>\n",
       "      <td>Home</td>\n",
       "      <td>Employed</td>\n",
       "      <td>8</td>\n",
       "      <td>Fair</td>\n",
       "      <td>0.362398</td>\n",
       "      <td>180700.0</td>\n",
       "      <td>3.0</td>\n",
       "      <td>South Scott</td>\n",
       "      <td>OK</td>\n",
       "      <td>Luxembourg</td>\n",
       "      <td>3.0</td>\n",
       "      <td>2</td>\n",
       "      <td>Medium</td>\n",
       "    </tr>\n",
       "    <tr>\n",
       "      <th>3</th>\n",
       "      <td>59</td>\n",
       "      <td>Male</td>\n",
       "      <td>Bachelor's</td>\n",
       "      <td>Single</td>\n",
       "      <td>26508.0</td>\n",
       "      <td>622.0</td>\n",
       "      <td>26541.0</td>\n",
       "      <td>Personal</td>\n",
       "      <td>Unemployed</td>\n",
       "      <td>2</td>\n",
       "      <td>Excellent</td>\n",
       "      <td>0.454964</td>\n",
       "      <td>157319.0</td>\n",
       "      <td>3.0</td>\n",
       "      <td>Robinhaven</td>\n",
       "      <td>PR</td>\n",
       "      <td>Uganda</td>\n",
       "      <td>4.0</td>\n",
       "      <td>2</td>\n",
       "      <td>Medium</td>\n",
       "    </tr>\n",
       "    <tr>\n",
       "      <th>4</th>\n",
       "      <td>25</td>\n",
       "      <td>Non-binary</td>\n",
       "      <td>Bachelor's</td>\n",
       "      <td>Widowed</td>\n",
       "      <td>49427.0</td>\n",
       "      <td>766.0</td>\n",
       "      <td>36528.0</td>\n",
       "      <td>Personal</td>\n",
       "      <td>Unemployed</td>\n",
       "      <td>10</td>\n",
       "      <td>Fair</td>\n",
       "      <td>0.143242</td>\n",
       "      <td>287140.0</td>\n",
       "      <td>NaN</td>\n",
       "      <td>New Heather</td>\n",
       "      <td>IL</td>\n",
       "      <td>Namibia</td>\n",
       "      <td>3.0</td>\n",
       "      <td>1</td>\n",
       "      <td>Low</td>\n",
       "    </tr>\n",
       "    <tr>\n",
       "      <th>...</th>\n",
       "      <td>...</td>\n",
       "      <td>...</td>\n",
       "      <td>...</td>\n",
       "      <td>...</td>\n",
       "      <td>...</td>\n",
       "      <td>...</td>\n",
       "      <td>...</td>\n",
       "      <td>...</td>\n",
       "      <td>...</td>\n",
       "      <td>...</td>\n",
       "      <td>...</td>\n",
       "      <td>...</td>\n",
       "      <td>...</td>\n",
       "      <td>...</td>\n",
       "      <td>...</td>\n",
       "      <td>...</td>\n",
       "      <td>...</td>\n",
       "      <td>...</td>\n",
       "      <td>...</td>\n",
       "      <td>...</td>\n",
       "    </tr>\n",
       "    <tr>\n",
       "      <th>14995</th>\n",
       "      <td>23</td>\n",
       "      <td>Non-binary</td>\n",
       "      <td>Bachelor's</td>\n",
       "      <td>Widowed</td>\n",
       "      <td>48088.0</td>\n",
       "      <td>609.0</td>\n",
       "      <td>26187.0</td>\n",
       "      <td>Home</td>\n",
       "      <td>Self-employed</td>\n",
       "      <td>2</td>\n",
       "      <td>Fair</td>\n",
       "      <td>0.317633</td>\n",
       "      <td>NaN</td>\n",
       "      <td>4.0</td>\n",
       "      <td>Susanstad</td>\n",
       "      <td>TN</td>\n",
       "      <td>Djibouti</td>\n",
       "      <td>2.0</td>\n",
       "      <td>0</td>\n",
       "      <td>Low</td>\n",
       "    </tr>\n",
       "    <tr>\n",
       "      <th>14996</th>\n",
       "      <td>56</td>\n",
       "      <td>Male</td>\n",
       "      <td>PhD</td>\n",
       "      <td>Single</td>\n",
       "      <td>107193.0</td>\n",
       "      <td>700.0</td>\n",
       "      <td>35111.0</td>\n",
       "      <td>Auto</td>\n",
       "      <td>Self-employed</td>\n",
       "      <td>10</td>\n",
       "      <td>Fair</td>\n",
       "      <td>0.155126</td>\n",
       "      <td>79102.0</td>\n",
       "      <td>NaN</td>\n",
       "      <td>Port Heather</td>\n",
       "      <td>WA</td>\n",
       "      <td>Congo</td>\n",
       "      <td>0.0</td>\n",
       "      <td>0</td>\n",
       "      <td>Medium</td>\n",
       "    </tr>\n",
       "    <tr>\n",
       "      <th>14997</th>\n",
       "      <td>29</td>\n",
       "      <td>Non-binary</td>\n",
       "      <td>PhD</td>\n",
       "      <td>Married</td>\n",
       "      <td>46250.0</td>\n",
       "      <td>642.0</td>\n",
       "      <td>44369.0</td>\n",
       "      <td>Home</td>\n",
       "      <td>Unemployed</td>\n",
       "      <td>19</td>\n",
       "      <td>Excellent</td>\n",
       "      <td>0.593999</td>\n",
       "      <td>196930.0</td>\n",
       "      <td>4.0</td>\n",
       "      <td>South Morganchester</td>\n",
       "      <td>LA</td>\n",
       "      <td>Palau</td>\n",
       "      <td>2.0</td>\n",
       "      <td>1</td>\n",
       "      <td>High</td>\n",
       "    </tr>\n",
       "    <tr>\n",
       "      <th>14998</th>\n",
       "      <td>53</td>\n",
       "      <td>Non-binary</td>\n",
       "      <td>PhD</td>\n",
       "      <td>Divorced</td>\n",
       "      <td>40180.0</td>\n",
       "      <td>638.0</td>\n",
       "      <td>32752.0</td>\n",
       "      <td>Home</td>\n",
       "      <td>Self-employed</td>\n",
       "      <td>12</td>\n",
       "      <td>Excellent</td>\n",
       "      <td>0.478035</td>\n",
       "      <td>276060.0</td>\n",
       "      <td>NaN</td>\n",
       "      <td>Port Wayne</td>\n",
       "      <td>AK</td>\n",
       "      <td>Rwanda</td>\n",
       "      <td>0.0</td>\n",
       "      <td>2</td>\n",
       "      <td>High</td>\n",
       "    </tr>\n",
       "    <tr>\n",
       "      <th>14999</th>\n",
       "      <td>24</td>\n",
       "      <td>Non-binary</td>\n",
       "      <td>Bachelor's</td>\n",
       "      <td>Widowed</td>\n",
       "      <td>NaN</td>\n",
       "      <td>765.0</td>\n",
       "      <td>NaN</td>\n",
       "      <td>Personal</td>\n",
       "      <td>Self-employed</td>\n",
       "      <td>18</td>\n",
       "      <td>Excellent</td>\n",
       "      <td>0.116083</td>\n",
       "      <td>71699.0</td>\n",
       "      <td>3.0</td>\n",
       "      <td>South Stacy</td>\n",
       "      <td>WA</td>\n",
       "      <td>Saint Pierre and Miquelon</td>\n",
       "      <td>3.0</td>\n",
       "      <td>2</td>\n",
       "      <td>Low</td>\n",
       "    </tr>\n",
       "  </tbody>\n",
       "</table>\n",
       "<p>15000 rows × 20 columns</p>\n",
       "</div>"
      ],
      "text/plain": [
       "       Age      Gender Education Level Marital Status    Income  Credit Score  \\\n",
       "0       49        Male             PhD       Divorced   72799.0         688.0   \n",
       "1       57      Female      Bachelor's        Widowed       NaN         690.0   \n",
       "2       21  Non-binary        Master's         Single   55687.0         600.0   \n",
       "3       59        Male      Bachelor's         Single   26508.0         622.0   \n",
       "4       25  Non-binary      Bachelor's        Widowed   49427.0         766.0   \n",
       "...    ...         ...             ...            ...       ...           ...   \n",
       "14995   23  Non-binary      Bachelor's        Widowed   48088.0         609.0   \n",
       "14996   56        Male             PhD         Single  107193.0         700.0   \n",
       "14997   29  Non-binary             PhD        Married   46250.0         642.0   \n",
       "14998   53  Non-binary             PhD       Divorced   40180.0         638.0   \n",
       "14999   24  Non-binary      Bachelor's        Widowed       NaN         765.0   \n",
       "\n",
       "       Loan Amount Loan Purpose Employment Status  Years at Current Job  \\\n",
       "0          45713.0     Business        Unemployed                    19   \n",
       "1          33835.0         Auto          Employed                     6   \n",
       "2          36623.0         Home          Employed                     8   \n",
       "3          26541.0     Personal        Unemployed                     2   \n",
       "4          36528.0     Personal        Unemployed                    10   \n",
       "...            ...          ...               ...                   ...   \n",
       "14995      26187.0         Home     Self-employed                     2   \n",
       "14996      35111.0         Auto     Self-employed                    10   \n",
       "14997      44369.0         Home        Unemployed                    19   \n",
       "14998      32752.0         Home     Self-employed                    12   \n",
       "14999          NaN     Personal     Self-employed                    18   \n",
       "\n",
       "      Payment History  Debt-to-Income Ratio  Assets Value  \\\n",
       "0                Poor              0.154313      120228.0   \n",
       "1                Fair              0.148920       55849.0   \n",
       "2                Fair              0.362398      180700.0   \n",
       "3           Excellent              0.454964      157319.0   \n",
       "4                Fair              0.143242      287140.0   \n",
       "...               ...                   ...           ...   \n",
       "14995            Fair              0.317633           NaN   \n",
       "14996            Fair              0.155126       79102.0   \n",
       "14997       Excellent              0.593999      196930.0   \n",
       "14998       Excellent              0.478035      276060.0   \n",
       "14999       Excellent              0.116083       71699.0   \n",
       "\n",
       "       Number of Dependents                 City State  \\\n",
       "0                       0.0       Port Elizabeth    AS   \n",
       "1                       0.0      North Catherine    OH   \n",
       "2                       3.0          South Scott    OK   \n",
       "3                       3.0           Robinhaven    PR   \n",
       "4                       NaN          New Heather    IL   \n",
       "...                     ...                  ...   ...   \n",
       "14995                   4.0            Susanstad    TN   \n",
       "14996                   NaN         Port Heather    WA   \n",
       "14997                   4.0  South Morganchester    LA   \n",
       "14998                   NaN           Port Wayne    AK   \n",
       "14999                   3.0          South Stacy    WA   \n",
       "\n",
       "                         Country  Previous Defaults  Marital Status Change  \\\n",
       "0                         Cyprus                2.0                      2   \n",
       "1                   Turkmenistan                3.0                      2   \n",
       "2                     Luxembourg                3.0                      2   \n",
       "3                         Uganda                4.0                      2   \n",
       "4                        Namibia                3.0                      1   \n",
       "...                          ...                ...                    ...   \n",
       "14995                   Djibouti                2.0                      0   \n",
       "14996                      Congo                0.0                      0   \n",
       "14997                      Palau                2.0                      1   \n",
       "14998                     Rwanda                0.0                      2   \n",
       "14999  Saint Pierre and Miquelon                3.0                      2   \n",
       "\n",
       "      Risk Rating  \n",
       "0             Low  \n",
       "1          Medium  \n",
       "2          Medium  \n",
       "3          Medium  \n",
       "4             Low  \n",
       "...           ...  \n",
       "14995         Low  \n",
       "14996      Medium  \n",
       "14997        High  \n",
       "14998        High  \n",
       "14999         Low  \n",
       "\n",
       "[15000 rows x 20 columns]"
      ]
     },
     "execution_count": 1907,
     "metadata": {},
     "output_type": "execute_result"
    }
   ],
   "source": [
    "df"
   ]
  },
  {
   "cell_type": "code",
   "execution_count": 1909,
   "id": "169f6ce1-b02d-433e-844e-978188d8d99c",
   "metadata": {},
   "outputs": [
    {
     "name": "stdout",
     "output_type": "stream",
     "text": [
      "<class 'pandas.core.frame.DataFrame'>\n",
      "RangeIndex: 15000 entries, 0 to 14999\n",
      "Data columns (total 20 columns):\n",
      " #   Column                 Non-Null Count  Dtype  \n",
      "---  ------                 --------------  -----  \n",
      " 0   Age                    15000 non-null  int64  \n",
      " 1   Gender                 15000 non-null  object \n",
      " 2   Education Level        15000 non-null  object \n",
      " 3   Marital Status         15000 non-null  object \n",
      " 4   Income                 12750 non-null  float64\n",
      " 5   Credit Score           12750 non-null  float64\n",
      " 6   Loan Amount            12750 non-null  float64\n",
      " 7   Loan Purpose           15000 non-null  object \n",
      " 8   Employment Status      15000 non-null  object \n",
      " 9   Years at Current Job   15000 non-null  int64  \n",
      " 10  Payment History        15000 non-null  object \n",
      " 11  Debt-to-Income Ratio   15000 non-null  float64\n",
      " 12  Assets Value           12750 non-null  float64\n",
      " 13  Number of Dependents   12750 non-null  float64\n",
      " 14  City                   15000 non-null  object \n",
      " 15  State                  15000 non-null  object \n",
      " 16  Country                15000 non-null  object \n",
      " 17  Previous Defaults      12750 non-null  float64\n",
      " 18  Marital Status Change  15000 non-null  int64  \n",
      " 19  Risk Rating            15000 non-null  object \n",
      "dtypes: float64(7), int64(3), object(10)\n",
      "memory usage: 2.3+ MB\n"
     ]
    }
   ],
   "source": [
    "df.info()"
   ]
  },
  {
   "cell_type": "code",
   "execution_count": 1911,
   "id": "31e9ce1b-f9d2-4fdb-baaa-a75a6729b180",
   "metadata": {},
   "outputs": [
    {
     "data": {
      "text/html": [
       "<div>\n",
       "<style scoped>\n",
       "    .dataframe tbody tr th:only-of-type {\n",
       "        vertical-align: middle;\n",
       "    }\n",
       "\n",
       "    .dataframe tbody tr th {\n",
       "        vertical-align: top;\n",
       "    }\n",
       "\n",
       "    .dataframe thead th {\n",
       "        text-align: right;\n",
       "    }\n",
       "</style>\n",
       "<table border=\"1\" class=\"dataframe\">\n",
       "  <thead>\n",
       "    <tr style=\"text-align: right;\">\n",
       "      <th></th>\n",
       "      <th>Age</th>\n",
       "      <th>Income</th>\n",
       "      <th>Credit Score</th>\n",
       "      <th>Loan Amount</th>\n",
       "      <th>Years at Current Job</th>\n",
       "      <th>Debt-to-Income Ratio</th>\n",
       "      <th>Assets Value</th>\n",
       "      <th>Number of Dependents</th>\n",
       "      <th>Previous Defaults</th>\n",
       "      <th>Marital Status Change</th>\n",
       "    </tr>\n",
       "  </thead>\n",
       "  <tbody>\n",
       "    <tr>\n",
       "      <th>count</th>\n",
       "      <td>15000.000000</td>\n",
       "      <td>12750.000000</td>\n",
       "      <td>12750.000000</td>\n",
       "      <td>12750.000000</td>\n",
       "      <td>15000.000000</td>\n",
       "      <td>15000.000000</td>\n",
       "      <td>12750.000000</td>\n",
       "      <td>12750.00000</td>\n",
       "      <td>12750.000000</td>\n",
       "      <td>15000.000000</td>\n",
       "    </tr>\n",
       "    <tr>\n",
       "      <th>mean</th>\n",
       "      <td>43.452667</td>\n",
       "      <td>69933.398510</td>\n",
       "      <td>699.109098</td>\n",
       "      <td>27450.010902</td>\n",
       "      <td>9.476267</td>\n",
       "      <td>0.350438</td>\n",
       "      <td>159741.497176</td>\n",
       "      <td>2.02651</td>\n",
       "      <td>1.992471</td>\n",
       "      <td>0.998467</td>\n",
       "    </tr>\n",
       "    <tr>\n",
       "      <th>std</th>\n",
       "      <td>14.910732</td>\n",
       "      <td>29163.626207</td>\n",
       "      <td>57.229465</td>\n",
       "      <td>12949.940135</td>\n",
       "      <td>5.769707</td>\n",
       "      <td>0.143919</td>\n",
       "      <td>80298.115832</td>\n",
       "      <td>1.41130</td>\n",
       "      <td>1.416909</td>\n",
       "      <td>0.813782</td>\n",
       "    </tr>\n",
       "    <tr>\n",
       "      <th>min</th>\n",
       "      <td>18.000000</td>\n",
       "      <td>20005.000000</td>\n",
       "      <td>600.000000</td>\n",
       "      <td>5000.000000</td>\n",
       "      <td>0.000000</td>\n",
       "      <td>0.100004</td>\n",
       "      <td>20055.000000</td>\n",
       "      <td>0.00000</td>\n",
       "      <td>0.000000</td>\n",
       "      <td>0.000000</td>\n",
       "    </tr>\n",
       "    <tr>\n",
       "      <th>25%</th>\n",
       "      <td>31.000000</td>\n",
       "      <td>44281.500000</td>\n",
       "      <td>650.000000</td>\n",
       "      <td>16352.500000</td>\n",
       "      <td>4.000000</td>\n",
       "      <td>0.227386</td>\n",
       "      <td>90635.250000</td>\n",
       "      <td>1.00000</td>\n",
       "      <td>1.000000</td>\n",
       "      <td>0.000000</td>\n",
       "    </tr>\n",
       "    <tr>\n",
       "      <th>50%</th>\n",
       "      <td>43.000000</td>\n",
       "      <td>69773.000000</td>\n",
       "      <td>699.000000</td>\n",
       "      <td>27544.000000</td>\n",
       "      <td>9.000000</td>\n",
       "      <td>0.350754</td>\n",
       "      <td>159362.000000</td>\n",
       "      <td>2.00000</td>\n",
       "      <td>2.000000</td>\n",
       "      <td>1.000000</td>\n",
       "    </tr>\n",
       "    <tr>\n",
       "      <th>75%</th>\n",
       "      <td>56.000000</td>\n",
       "      <td>95922.750000</td>\n",
       "      <td>748.000000</td>\n",
       "      <td>38547.500000</td>\n",
       "      <td>15.000000</td>\n",
       "      <td>0.476095</td>\n",
       "      <td>228707.000000</td>\n",
       "      <td>3.00000</td>\n",
       "      <td>3.000000</td>\n",
       "      <td>2.000000</td>\n",
       "    </tr>\n",
       "    <tr>\n",
       "      <th>max</th>\n",
       "      <td>69.000000</td>\n",
       "      <td>119997.000000</td>\n",
       "      <td>799.000000</td>\n",
       "      <td>49998.000000</td>\n",
       "      <td>19.000000</td>\n",
       "      <td>0.599970</td>\n",
       "      <td>299999.000000</td>\n",
       "      <td>4.00000</td>\n",
       "      <td>4.000000</td>\n",
       "      <td>2.000000</td>\n",
       "    </tr>\n",
       "  </tbody>\n",
       "</table>\n",
       "</div>"
      ],
      "text/plain": [
       "                Age         Income  Credit Score   Loan Amount  \\\n",
       "count  15000.000000   12750.000000  12750.000000  12750.000000   \n",
       "mean      43.452667   69933.398510    699.109098  27450.010902   \n",
       "std       14.910732   29163.626207     57.229465  12949.940135   \n",
       "min       18.000000   20005.000000    600.000000   5000.000000   \n",
       "25%       31.000000   44281.500000    650.000000  16352.500000   \n",
       "50%       43.000000   69773.000000    699.000000  27544.000000   \n",
       "75%       56.000000   95922.750000    748.000000  38547.500000   \n",
       "max       69.000000  119997.000000    799.000000  49998.000000   \n",
       "\n",
       "       Years at Current Job  Debt-to-Income Ratio   Assets Value  \\\n",
       "count          15000.000000          15000.000000   12750.000000   \n",
       "mean               9.476267              0.350438  159741.497176   \n",
       "std                5.769707              0.143919   80298.115832   \n",
       "min                0.000000              0.100004   20055.000000   \n",
       "25%                4.000000              0.227386   90635.250000   \n",
       "50%                9.000000              0.350754  159362.000000   \n",
       "75%               15.000000              0.476095  228707.000000   \n",
       "max               19.000000              0.599970  299999.000000   \n",
       "\n",
       "       Number of Dependents  Previous Defaults  Marital Status Change  \n",
       "count           12750.00000       12750.000000           15000.000000  \n",
       "mean                2.02651           1.992471               0.998467  \n",
       "std                 1.41130           1.416909               0.813782  \n",
       "min                 0.00000           0.000000               0.000000  \n",
       "25%                 1.00000           1.000000               0.000000  \n",
       "50%                 2.00000           2.000000               1.000000  \n",
       "75%                 3.00000           3.000000               2.000000  \n",
       "max                 4.00000           4.000000               2.000000  "
      ]
     },
     "execution_count": 1911,
     "metadata": {},
     "output_type": "execute_result"
    }
   ],
   "source": [
    "df.describe()"
   ]
  },
  {
   "cell_type": "code",
   "execution_count": 1912,
   "id": "7eaac2eb-b567-4e95-ad57-30b6957c41d4",
   "metadata": {},
   "outputs": [
    {
     "data": {
      "text/plain": [
       "Age                         0\n",
       "Gender                      0\n",
       "Education Level             0\n",
       "Marital Status              0\n",
       "Income                   2250\n",
       "Credit Score             2250\n",
       "Loan Amount              2250\n",
       "Loan Purpose                0\n",
       "Employment Status           0\n",
       "Years at Current Job        0\n",
       "Payment History             0\n",
       "Debt-to-Income Ratio        0\n",
       "Assets Value             2250\n",
       "Number of Dependents     2250\n",
       "City                        0\n",
       "State                       0\n",
       "Country                     0\n",
       "Previous Defaults        2250\n",
       "Marital Status Change       0\n",
       "Risk Rating                 0\n",
       "dtype: int64"
      ]
     },
     "execution_count": 1912,
     "metadata": {},
     "output_type": "execute_result"
    }
   ],
   "source": [
    "df.isnull().sum()"
   ]
  },
  {
   "cell_type": "code",
   "execution_count": 1913,
   "id": "dd22eb9f-64be-4efa-80a8-9214acd2f20a",
   "metadata": {},
   "outputs": [],
   "source": [
    "columns_to_fill = ['Income', 'Credit Score',  'Loan Amount', 'Assets Value', 'Number of Dependents', 'Previous Defaults']\n",
    "for column in columns_to_fill:\n",
    "    df[column] = df.groupby('Employment Status')[column].transform(lambda x: x.fillna(x.mean()))"
   ]
  },
  {
   "cell_type": "code",
   "execution_count": 1914,
   "id": "042f4577-bf6d-4c96-8fa5-dc068ad31577",
   "metadata": {},
   "outputs": [
    {
     "data": {
      "text/plain": [
       "Age                      0\n",
       "Gender                   0\n",
       "Education Level          0\n",
       "Marital Status           0\n",
       "Income                   0\n",
       "Credit Score             0\n",
       "Loan Amount              0\n",
       "Loan Purpose             0\n",
       "Employment Status        0\n",
       "Years at Current Job     0\n",
       "Payment History          0\n",
       "Debt-to-Income Ratio     0\n",
       "Assets Value             0\n",
       "Number of Dependents     0\n",
       "City                     0\n",
       "State                    0\n",
       "Country                  0\n",
       "Previous Defaults        0\n",
       "Marital Status Change    0\n",
       "Risk Rating              0\n",
       "dtype: int64"
      ]
     },
     "execution_count": 1914,
     "metadata": {},
     "output_type": "execute_result"
    }
   ],
   "source": [
    "df.isnull().sum()"
   ]
  },
  {
   "cell_type": "code",
   "execution_count": 1919,
   "id": "724ec870-d4e6-49b4-a627-9ca6a93584e2",
   "metadata": {},
   "outputs": [
    {
     "data": {
      "text/plain": [
       "Education Level\n",
       "Bachelor's     69693.4\n",
       "High School    69744.9\n",
       "Master's       69930.5\n",
       "PhD            70357.8\n",
       "Name: Income, dtype: float64"
      ]
     },
     "execution_count": 1919,
     "metadata": {},
     "output_type": "execute_result"
    }
   ],
   "source": [
    "df.groupby('Education Level')['Income'].mean().sort_values().round(1)"
   ]
  },
  {
   "cell_type": "code",
   "execution_count": 1920,
   "id": "58149228-95b6-4677-bf9e-f54e275a51df",
   "metadata": {},
   "outputs": [],
   "source": [
    "df1 = df.groupby('Education Level', as_index = False)['Income'].mean().sort_values(by = 'Income').round(1)"
   ]
  },
  {
   "cell_type": "code",
   "execution_count": 1923,
   "id": "42fc9ba9-9686-4aeb-b2ce-66fc39f24067",
   "metadata": {},
   "outputs": [
    {
     "data": {
      "text/plain": [
       "Text(0, 0.5, 'Income')"
      ]
     },
     "execution_count": 1923,
     "metadata": {},
     "output_type": "execute_result"
    },
    {
     "data": {
      "image/png": "[encoded data removed]",
      "text/plain": [
       "<Figure size 640x480 with 1 Axes>"
      ]
     },
     "metadata": {},
     "output_type": "display_data"
    }
   ],
   "source": [
    "sns.lineplot(x = 'Education Level' , y = 'Income', data = df1, marker = 'o')\n",
    "plt.title('Average Income by Education Level', fontsize = 12, fontweight = 'bold')\n",
    "plt.xlabel('Education Level')\n",
    "plt.ylabel('Income')"
   ]
  },
  {
   "cell_type": "code",
   "execution_count": 1924,
   "id": "9b6b7a65-17ae-4134-b480-09421c5eb7ca",
   "metadata": {},
   "outputs": [
    {
     "data": {
      "text/plain": [
       "Education Level\n",
       "Bachelor's     157768.9\n",
       "PhD            160327.2\n",
       "High School    160474.6\n",
       "Master's       160494.0\n",
       "Name: Assets Value, dtype: float64"
      ]
     },
     "execution_count": 1924,
     "metadata": {},
     "output_type": "execute_result"
    }
   ],
   "source": [
    "df.groupby('Education Level')['Assets Value'].mean().sort_values().round(1)"
   ]
  },
  {
   "cell_type": "code",
   "execution_count": 1925,
   "id": "20a25fbc-9e14-4536-ba4b-237343da3576",
   "metadata": {},
   "outputs": [],
   "source": [
    "df2 = df.groupby('Education Level', as_index = False)['Assets Value'].mean().sort_values(by = 'Assets Value').round(1)"
   ]
  },
  {
   "cell_type": "code",
   "execution_count": 2081,
   "id": "7e9f4b99-3bff-4813-acd9-cb149e27292c",
   "metadata": {},
   "outputs": [
    {
     "data": {
      "text/plain": [
       "Text(0, 0.5, 'Assets Value')"
      ]
     },
     "execution_count": 2081,
     "metadata": {},
     "output_type": "execute_result"
    },
    {
     "data": {
      "image/png": "[encoded data removed]",
      "text/plain": [
       "<Figure size 640x480 with 1 Axes>"
      ]
     },
     "metadata": {},
     "output_type": "display_data"
    }
   ],
   "source": [
    "sns.lineplot(x = 'Education Level' , y = 'Assets Value', data = df2, marker = 'o', color = 'green')\n",
    "plt.title('Average Assets Value by Education Level', fontsize = 12, fontweight = 'bold')\n",
    "plt.xlabel('Education Level')\n",
    "plt.ylabel('Assets Value')"
   ]
  },
  {
   "cell_type": "code",
   "execution_count": 1927,
   "id": "3cb87806-1cf1-4938-8eb6-0908b92226b2",
   "metadata": {},
   "outputs": [
    {
     "data": {
      "text/plain": [
       "Gender\n",
       "Female        69189.125670\n",
       "Male          70100.297309\n",
       "Non-binary    70495.217521\n",
       "Name: Income, dtype: float64"
      ]
     },
     "execution_count": 1927,
     "metadata": {},
     "output_type": "execute_result"
    }
   ],
   "source": [
    "df.groupby('Gender')['Income'].mean().sort_values()"
   ]
  },
  {
   "cell_type": "code",
   "execution_count": 1928,
   "id": "bd7f0007-1bda-48d5-b95e-47b8d2602d47",
   "metadata": {},
   "outputs": [],
   "source": [
    "df3 = df.groupby('Gender', as_index = False)['Income'].mean().sort_values(by = 'Income').round(1)"
   ]
  },
  {
   "cell_type": "code",
   "execution_count": 1929,
   "id": "d9f7adae-0d47-428c-ab91-9517a459a7f0",
   "metadata": {},
   "outputs": [
    {
     "data": {
      "text/plain": [
       "Text(0, 0.5, 'Income')"
      ]
     },
     "execution_count": 1929,
     "metadata": {},
     "output_type": "execute_result"
    },
    {
     "data": {
      "image/png": "[encoded data removed]",
      "text/plain": [
       "<Figure size 640x480 with 1 Axes>"
      ]
     },
     "metadata": {},
     "output_type": "display_data"
    }
   ],
   "source": [
    "sns.lineplot(x = 'Gender' , y = 'Income', data = df3, marker = 's', color = 'gold')\n",
    "plt.title('Average Income by Gender', fontsize = 12, fontweight = 'bold')\n",
    "plt.xlabel('Gender')\n",
    "plt.ylabel('Income')"
   ]
  },
  {
   "cell_type": "code",
   "execution_count": 1930,
   "id": "6762e114-d354-4c87-bb3c-b3254ba51aa4",
   "metadata": {},
   "outputs": [
    {
     "data": {
      "text/plain": [
       "Education Level\n",
       "High School    697.9\n",
       "Bachelor's     698.7\n",
       "Master's       699.0\n",
       "PhD            700.9\n",
       "Name: Credit Score, dtype: float64"
      ]
     },
     "execution_count": 1930,
     "metadata": {},
     "output_type": "execute_result"
    }
   ],
   "source": [
    "df.groupby('Education Level')['Credit Score'].mean().sort_values().round(1)"
   ]
  },
  {
   "cell_type": "code",
   "execution_count": 1931,
   "id": "39d8ceeb-e5c0-4f54-abb5-5cec13231220",
   "metadata": {},
   "outputs": [
    {
     "data": {
      "text/html": [
       "<div>\n",
       "<style scoped>\n",
       "    .dataframe tbody tr th:only-of-type {\n",
       "        vertical-align: middle;\n",
       "    }\n",
       "\n",
       "    .dataframe tbody tr th {\n",
       "        vertical-align: top;\n",
       "    }\n",
       "\n",
       "    .dataframe thead th {\n",
       "        text-align: right;\n",
       "    }\n",
       "</style>\n",
       "<table border=\"1\" class=\"dataframe\">\n",
       "  <thead>\n",
       "    <tr style=\"text-align: right;\">\n",
       "      <th></th>\n",
       "      <th>count</th>\n",
       "      <th>unique</th>\n",
       "      <th>top</th>\n",
       "      <th>freq</th>\n",
       "    </tr>\n",
       "    <tr>\n",
       "      <th>Education Level</th>\n",
       "      <th></th>\n",
       "      <th></th>\n",
       "      <th></th>\n",
       "      <th></th>\n",
       "    </tr>\n",
       "  </thead>\n",
       "  <tbody>\n",
       "    <tr>\n",
       "      <th>Bachelor's</th>\n",
       "      <td>3829</td>\n",
       "      <td>3</td>\n",
       "      <td>Employed</td>\n",
       "      <td>1300</td>\n",
       "    </tr>\n",
       "    <tr>\n",
       "      <th>High School</th>\n",
       "      <td>3774</td>\n",
       "      <td>3</td>\n",
       "      <td>Unemployed</td>\n",
       "      <td>1277</td>\n",
       "    </tr>\n",
       "    <tr>\n",
       "      <th>Master's</th>\n",
       "      <td>3637</td>\n",
       "      <td>3</td>\n",
       "      <td>Self-employed</td>\n",
       "      <td>1232</td>\n",
       "    </tr>\n",
       "    <tr>\n",
       "      <th>PhD</th>\n",
       "      <td>3760</td>\n",
       "      <td>3</td>\n",
       "      <td>Employed</td>\n",
       "      <td>1273</td>\n",
       "    </tr>\n",
       "  </tbody>\n",
       "</table>\n",
       "</div>"
      ],
      "text/plain": [
       "                count unique            top  freq\n",
       "Education Level                                  \n",
       "Bachelor's       3829      3       Employed  1300\n",
       "High School      3774      3     Unemployed  1277\n",
       "Master's         3637      3  Self-employed  1232\n",
       "PhD              3760      3       Employed  1273"
      ]
     },
     "execution_count": 1931,
     "metadata": {},
     "output_type": "execute_result"
    }
   ],
   "source": [
    "df.groupby('Education Level')['Employment Status'].describe()"
   ]
  },
  {
   "cell_type": "code",
   "execution_count": 1932,
   "id": "acb990b4-01cc-44b1-94ef-8feb618d72fd",
   "metadata": {},
   "outputs": [
    {
     "data": {
      "text/html": [
       "<div>\n",
       "<style scoped>\n",
       "    .dataframe tbody tr th:only-of-type {\n",
       "        vertical-align: middle;\n",
       "    }\n",
       "\n",
       "    .dataframe tbody tr th {\n",
       "        vertical-align: top;\n",
       "    }\n",
       "\n",
       "    .dataframe thead th {\n",
       "        text-align: right;\n",
       "    }\n",
       "</style>\n",
       "<table border=\"1\" class=\"dataframe\">\n",
       "  <thead>\n",
       "    <tr style=\"text-align: right;\">\n",
       "      <th></th>\n",
       "      <th>count</th>\n",
       "      <th>unique</th>\n",
       "      <th>top</th>\n",
       "      <th>freq</th>\n",
       "    </tr>\n",
       "    <tr>\n",
       "      <th>Education Level</th>\n",
       "      <th></th>\n",
       "      <th></th>\n",
       "      <th></th>\n",
       "      <th></th>\n",
       "    </tr>\n",
       "  </thead>\n",
       "  <tbody>\n",
       "    <tr>\n",
       "      <th>Bachelor's</th>\n",
       "      <td>3829</td>\n",
       "      <td>4</td>\n",
       "      <td>Business</td>\n",
       "      <td>984</td>\n",
       "    </tr>\n",
       "    <tr>\n",
       "      <th>High School</th>\n",
       "      <td>3774</td>\n",
       "      <td>4</td>\n",
       "      <td>Auto</td>\n",
       "      <td>975</td>\n",
       "    </tr>\n",
       "    <tr>\n",
       "      <th>Master's</th>\n",
       "      <td>3637</td>\n",
       "      <td>4</td>\n",
       "      <td>Home</td>\n",
       "      <td>940</td>\n",
       "    </tr>\n",
       "    <tr>\n",
       "      <th>PhD</th>\n",
       "      <td>3760</td>\n",
       "      <td>4</td>\n",
       "      <td>Personal</td>\n",
       "      <td>975</td>\n",
       "    </tr>\n",
       "  </tbody>\n",
       "</table>\n",
       "</div>"
      ],
      "text/plain": [
       "                count unique       top freq\n",
       "Education Level                            \n",
       "Bachelor's       3829      4  Business  984\n",
       "High School      3774      4      Auto  975\n",
       "Master's         3637      4      Home  940\n",
       "PhD              3760      4  Personal  975"
      ]
     },
     "execution_count": 1932,
     "metadata": {},
     "output_type": "execute_result"
    }
   ],
   "source": [
    "df.groupby('Education Level')['Loan Purpose'].describe()"
   ]
  },
  {
   "cell_type": "code",
   "execution_count": 1933,
   "id": "cf85217e-6243-4a95-b57c-3a5217363517",
   "metadata": {},
   "outputs": [
    {
     "data": {
      "text/html": [
       "<div>\n",
       "<style scoped>\n",
       "    .dataframe tbody tr th:only-of-type {\n",
       "        vertical-align: middle;\n",
       "    }\n",
       "\n",
       "    .dataframe tbody tr th {\n",
       "        vertical-align: top;\n",
       "    }\n",
       "\n",
       "    .dataframe thead th {\n",
       "        text-align: right;\n",
       "    }\n",
       "</style>\n",
       "<table border=\"1\" class=\"dataframe\">\n",
       "  <thead>\n",
       "    <tr style=\"text-align: right;\">\n",
       "      <th></th>\n",
       "      <th>count</th>\n",
       "      <th>unique</th>\n",
       "      <th>top</th>\n",
       "      <th>freq</th>\n",
       "    </tr>\n",
       "    <tr>\n",
       "      <th>Education Level</th>\n",
       "      <th></th>\n",
       "      <th></th>\n",
       "      <th></th>\n",
       "      <th></th>\n",
       "    </tr>\n",
       "  </thead>\n",
       "  <tbody>\n",
       "    <tr>\n",
       "      <th>Bachelor's</th>\n",
       "      <td>3829</td>\n",
       "      <td>4</td>\n",
       "      <td>Good</td>\n",
       "      <td>989</td>\n",
       "    </tr>\n",
       "    <tr>\n",
       "      <th>High School</th>\n",
       "      <td>3774</td>\n",
       "      <td>4</td>\n",
       "      <td>Poor</td>\n",
       "      <td>967</td>\n",
       "    </tr>\n",
       "    <tr>\n",
       "      <th>Master's</th>\n",
       "      <td>3637</td>\n",
       "      <td>4</td>\n",
       "      <td>Excellent</td>\n",
       "      <td>966</td>\n",
       "    </tr>\n",
       "    <tr>\n",
       "      <th>PhD</th>\n",
       "      <td>3760</td>\n",
       "      <td>4</td>\n",
       "      <td>Good</td>\n",
       "      <td>969</td>\n",
       "    </tr>\n",
       "  </tbody>\n",
       "</table>\n",
       "</div>"
      ],
      "text/plain": [
       "                count unique        top freq\n",
       "Education Level                             \n",
       "Bachelor's       3829      4       Good  989\n",
       "High School      3774      4       Poor  967\n",
       "Master's         3637      4  Excellent  966\n",
       "PhD              3760      4       Good  969"
      ]
     },
     "execution_count": 1933,
     "metadata": {},
     "output_type": "execute_result"
    }
   ],
   "source": [
    "df.groupby('Education Level')['Payment History'].describe()"
   ]
  },
  {
   "cell_type": "code",
   "execution_count": 1937,
   "id": "745d10c3-552b-4bfc-9dc4-2893c9a3d2d4",
   "metadata": {},
   "outputs": [
    {
     "data": {
      "text/html": [
       "<div>\n",
       "<style scoped>\n",
       "    .dataframe tbody tr th:only-of-type {\n",
       "        vertical-align: middle;\n",
       "    }\n",
       "\n",
       "    .dataframe tbody tr th {\n",
       "        vertical-align: top;\n",
       "    }\n",
       "\n",
       "    .dataframe thead th {\n",
       "        text-align: right;\n",
       "    }\n",
       "</style>\n",
       "<table border=\"1\" class=\"dataframe\">\n",
       "  <thead>\n",
       "    <tr style=\"text-align: right;\">\n",
       "      <th></th>\n",
       "      <th>count</th>\n",
       "      <th>unique</th>\n",
       "      <th>top</th>\n",
       "      <th>freq</th>\n",
       "    </tr>\n",
       "    <tr>\n",
       "      <th>Gender</th>\n",
       "      <th></th>\n",
       "      <th></th>\n",
       "      <th></th>\n",
       "      <th></th>\n",
       "    </tr>\n",
       "  </thead>\n",
       "  <tbody>\n",
       "    <tr>\n",
       "      <th>Female</th>\n",
       "      <td>4990</td>\n",
       "      <td>4</td>\n",
       "      <td>Good</td>\n",
       "      <td>1301</td>\n",
       "    </tr>\n",
       "    <tr>\n",
       "      <th>Male</th>\n",
       "      <td>4951</td>\n",
       "      <td>4</td>\n",
       "      <td>Poor</td>\n",
       "      <td>1277</td>\n",
       "    </tr>\n",
       "    <tr>\n",
       "      <th>Non-binary</th>\n",
       "      <td>5059</td>\n",
       "      <td>4</td>\n",
       "      <td>Good</td>\n",
       "      <td>1293</td>\n",
       "    </tr>\n",
       "  </tbody>\n",
       "</table>\n",
       "</div>"
      ],
      "text/plain": [
       "           count unique   top  freq\n",
       "Gender                             \n",
       "Female      4990      4  Good  1301\n",
       "Male        4951      4  Poor  1277\n",
       "Non-binary  5059      4  Good  1293"
      ]
     },
     "execution_count": 1937,
     "metadata": {},
     "output_type": "execute_result"
    }
   ],
   "source": [
    "df.groupby('Gender')['Payment History'].describe()"
   ]
  },
  {
   "cell_type": "code",
   "execution_count": 1938,
   "id": "39175536-b5df-4791-bb3b-f29b85a9d1c6",
   "metadata": {},
   "outputs": [
    {
     "data": {
      "text/plain": [
       "array(['Port Elizabeth', 'North Catherine', 'South Scott', ...,\n",
       "       'Susanstad', 'South Morganchester', 'Port Wayne'], dtype=object)"
      ]
     },
     "execution_count": 1938,
     "metadata": {},
     "output_type": "execute_result"
    }
   ],
   "source": [
    "df['City'].unique()"
   ]
  },
  {
   "cell_type": "code",
   "execution_count": 1939,
   "id": "784d8d99-1bb4-4593-ac34-63985b40f08d",
   "metadata": {},
   "outputs": [
    {
     "data": {
      "text/plain": [
       "array(['AS', 'OH', 'OK', 'PR', 'IL', 'TN', 'MD', 'MA', 'DC', 'VT', 'NH',\n",
       "       'NM', 'IA', 'AZ', 'MH', 'MO', 'MS', 'MP', 'DE', 'UT', 'KS', 'VI',\n",
       "       'CO', 'OR', 'VA', 'GA', 'ID', 'HI', 'AL', 'TX', 'WY', 'KY', 'WA',\n",
       "       'RI', 'LA', 'MI', 'WV', 'ND', 'NY', 'NJ', 'CT', 'PW', 'NV', 'FM',\n",
       "       'CA', 'NC', 'IN', 'GU', 'AR', 'WI', 'SD', 'MT', 'MN', 'NE', 'SC',\n",
       "       'ME', 'AK', 'PA', 'FL'], dtype=object)"
      ]
     },
     "execution_count": 1939,
     "metadata": {},
     "output_type": "execute_result"
    }
   ],
   "source": [
    "df['State'].unique()"
   ]
  },
  {
   "cell_type": "code",
   "execution_count": 1941,
   "id": "c97f4de8-8f9a-44cd-abd1-3c112b8d9227",
   "metadata": {},
   "outputs": [
    {
     "name": "stdout",
     "output_type": "stream",
     "text": [
      "<class 'pandas.core.frame.DataFrame'>\n",
      "RangeIndex: 15000 entries, 0 to 14999\n",
      "Data columns (total 20 columns):\n",
      " #   Column                 Non-Null Count  Dtype  \n",
      "---  ------                 --------------  -----  \n",
      " 0   Age                    15000 non-null  int64  \n",
      " 1   Gender                 15000 non-null  object \n",
      " 2   Education Level        15000 non-null  object \n",
      " 3   Marital Status         15000 non-null  object \n",
      " 4   Income                 15000 non-null  float64\n",
      " 5   Credit Score           15000 non-null  float64\n",
      " 6   Loan Amount            15000 non-null  float64\n",
      " 7   Loan Purpose           15000 non-null  object \n",
      " 8   Employment Status      15000 non-null  object \n",
      " 9   Years at Current Job   15000 non-null  int64  \n",
      " 10  Payment History        15000 non-null  object \n",
      " 11  Debt-to-Income Ratio   15000 non-null  float64\n",
      " 12  Assets Value           15000 non-null  float64\n",
      " 13  Number of Dependents   15000 non-null  float64\n",
      " 14  City                   15000 non-null  object \n",
      " 15  State                  15000 non-null  object \n",
      " 16  Country                15000 non-null  object \n",
      " 17  Previous Defaults      15000 non-null  float64\n",
      " 18  Marital Status Change  15000 non-null  int64  \n",
      " 19  Risk Rating            15000 non-null  object \n",
      "dtypes: float64(7), int64(3), object(10)\n",
      "memory usage: 2.3+ MB\n"
     ]
    }
   ],
   "source": [
    "df.info()"
   ]
  },
  {
   "cell_type": "code",
   "execution_count": 1943,
   "id": "09c45499-2744-4231-a023-e72ace9bf4b7",
   "metadata": {},
   "outputs": [
    {
     "data": {
      "text/plain": [
       "Gender\n",
       "Non-binary    1.980443\n",
       "Male          1.997234\n",
       "Female        1.999804\n",
       "Name: Previous Defaults, dtype: float64"
      ]
     },
     "execution_count": 1943,
     "metadata": {},
     "output_type": "execute_result"
    }
   ],
   "source": [
    "df.groupby('Gender')['Previous Defaults'].mean().sort_values()"
   ]
  },
  {
   "cell_type": "code",
   "execution_count": 1945,
   "id": "6e0b3b24-6676-4ec5-ae1a-d9b92d242afe",
   "metadata": {},
   "outputs": [
    {
     "data": {
      "text/plain": [
       "Education Level\n",
       "Bachelor's     1.98\n",
       "PhD            1.98\n",
       "Master's       2.00\n",
       "High School    2.01\n",
       "Name: Previous Defaults, dtype: float64"
      ]
     },
     "execution_count": 1945,
     "metadata": {},
     "output_type": "execute_result"
    }
   ],
   "source": [
    "df.groupby('Education Level')['Previous Defaults'].mean().sort_values().round(2)"
   ]
  },
  {
   "cell_type": "code",
   "execution_count": 1946,
   "id": "0476ffec-44af-4dcf-994e-7bbee2faedc7",
   "metadata": {},
   "outputs": [
    {
     "data": {
      "text/plain": [
       "Country\n",
       "Venezuela                                       60853.2\n",
       "Haiti                                           61930.3\n",
       "Antarctica (the territory South of 60 deg S)    62025.5\n",
       "Brunei Darussalam                               62690.9\n",
       "Iran                                            62774.5\n",
       "                                                 ...   \n",
       "Mauritius                                       76855.6\n",
       "India                                           76882.7\n",
       "Luxembourg                                      77144.8\n",
       "Vietnam                                         77182.4\n",
       "Botswana                                        77428.1\n",
       "Name: Income, Length: 243, dtype: float64"
      ]
     },
     "execution_count": 1946,
     "metadata": {},
     "output_type": "execute_result"
    }
   ],
   "source": [
    "df.groupby('Country')['Income'].mean().sort_values().round(1)"
   ]
  },
  {
   "cell_type": "code",
   "execution_count": 1947,
   "id": "c1dcd95b-fb5a-49f3-83f3-b643e65436db",
   "metadata": {},
   "outputs": [],
   "source": [
    "df4 = df.groupby('Country', as_index = False)['Income'].mean().sort_values(by = 'Income').round(1).tail(10)"
   ]
  },
  {
   "cell_type": "code",
   "execution_count": 1948,
   "id": "89d276a8-9503-4c47-bcec-3a073a0bab34",
   "metadata": {},
   "outputs": [
    {
     "data": {
      "text/plain": [
       "Text(0, 0.5, 'Income')"
      ]
     },
     "execution_count": 1948,
     "metadata": {},
     "output_type": "execute_result"
    },
    {
     "data": {
      "image/png": "[encoded data removed]",
      "text/plain": [
       "<Figure size 1500x1000 with 1 Axes>"
      ]
     },
     "metadata": {},
     "output_type": "display_data"
    }
   ],
   "source": [
    "plt.figure(figsize =(15,10))\n",
    "sns.lineplot(x = 'Country', y = 'Income', data = df4, marker = 'o', color = 'black')\n",
    "plt.title('Top 10 Average Income by Country', fontsize = 15, fontweight = 'bold')\n",
    "plt.xlabel('Country')\n",
    "plt.ylabel('Income')"
   ]
  },
  {
   "cell_type": "code",
   "execution_count": 1950,
   "id": "89089ef5-6ab4-4e0e-845c-125b93e502bd",
   "metadata": {},
   "outputs": [],
   "source": [
    "df5 = df.groupby('Country', as_index = False)['Loan Amount'].mean().sort_values(by = 'Loan Amount').round(1).tail(10)"
   ]
  },
  {
   "cell_type": "code",
   "execution_count": 1952,
   "id": "cd27deef-dce7-4256-ac42-fb16caf18096",
   "metadata": {},
   "outputs": [
    {
     "data": {
      "text/plain": [
       "Text(0, 0.5, 'Loan Amount')"
      ]
     },
     "execution_count": 1952,
     "metadata": {},
     "output_type": "execute_result"
    },
    {
     "data": {
      "image/png": "[encoded data removed]",
      "text/plain": [
       "<Figure size 1500x1000 with 1 Axes>"
      ]
     },
     "metadata": {},
     "output_type": "display_data"
    }
   ],
   "source": [
    "plt.figure(figsize =(15,10))\n",
    "sns.lineplot(x = 'Country', y = 'Loan Amount', data = df5, marker = 'o', color = 'red')\n",
    "plt.title('Top 10 Average Loan Amount by Country',fontsize = 15, fontweight = 'bold')\n",
    "plt.xlabel('Country')\n",
    "plt.ylabel('Loan Amount')"
   ]
  },
  {
   "cell_type": "code",
   "execution_count": 1955,
   "id": "d8891ef7-ac5f-4815-9ad9-a05cf4f14955",
   "metadata": {},
   "outputs": [
    {
     "data": {
      "text/html": [
       "<div>\n",
       "<style scoped>\n",
       "    .dataframe tbody tr th:only-of-type {\n",
       "        vertical-align: middle;\n",
       "    }\n",
       "\n",
       "    .dataframe tbody tr th {\n",
       "        vertical-align: top;\n",
       "    }\n",
       "\n",
       "    .dataframe thead th {\n",
       "        text-align: right;\n",
       "    }\n",
       "</style>\n",
       "<table border=\"1\" class=\"dataframe\">\n",
       "  <thead>\n",
       "    <tr style=\"text-align: right;\">\n",
       "      <th></th>\n",
       "      <th>count</th>\n",
       "      <th>unique</th>\n",
       "      <th>top</th>\n",
       "      <th>freq</th>\n",
       "    </tr>\n",
       "    <tr>\n",
       "      <th>Employment Status</th>\n",
       "      <th></th>\n",
       "      <th></th>\n",
       "      <th></th>\n",
       "      <th></th>\n",
       "    </tr>\n",
       "  </thead>\n",
       "  <tbody>\n",
       "    <tr>\n",
       "      <th>Employed</th>\n",
       "      <td>5026</td>\n",
       "      <td>3</td>\n",
       "      <td>Low</td>\n",
       "      <td>2964</td>\n",
       "    </tr>\n",
       "    <tr>\n",
       "      <th>Self-employed</th>\n",
       "      <td>4991</td>\n",
       "      <td>3</td>\n",
       "      <td>Low</td>\n",
       "      <td>3020</td>\n",
       "    </tr>\n",
       "    <tr>\n",
       "      <th>Unemployed</th>\n",
       "      <td>4983</td>\n",
       "      <td>3</td>\n",
       "      <td>Low</td>\n",
       "      <td>3016</td>\n",
       "    </tr>\n",
       "  </tbody>\n",
       "</table>\n",
       "</div>"
      ],
      "text/plain": [
       "                  count unique  top  freq\n",
       "Employment Status                        \n",
       "Employed           5026      3  Low  2964\n",
       "Self-employed      4991      3  Low  3020\n",
       "Unemployed         4983      3  Low  3016"
      ]
     },
     "execution_count": 1955,
     "metadata": {},
     "output_type": "execute_result"
    }
   ],
   "source": [
    "df.groupby('Employment Status')['Risk Rating'].describe()"
   ]
  },
  {
   "cell_type": "code",
   "execution_count": 1957,
   "id": "cccd5560-b048-4797-91c9-767a960d77c0",
   "metadata": {},
   "outputs": [
    {
     "data": {
      "text/plain": [
       "Loan Purpose\n",
       "Business    1.015265e+08\n",
       "Home        1.032025e+08\n",
       "Auto        1.034838e+08\n",
       "Personal    1.035349e+08\n",
       "Name: Loan Amount, dtype: float64"
      ]
     },
     "execution_count": 1957,
     "metadata": {},
     "output_type": "execute_result"
    }
   ],
   "source": [
    "df.groupby('Loan Purpose')['Loan Amount'].sum().sort_values()"
   ]
  },
  {
   "cell_type": "code",
   "execution_count": 1958,
   "id": "c3baa3e2-a95a-47c6-83d6-cd72e71ae292",
   "metadata": {},
   "outputs": [],
   "source": [
    "df6 = df.groupby('Loan Purpose', as_index = False)['Loan Amount'].sum().sort_values(by= 'Loan Amount')"
   ]
  },
  {
   "cell_type": "code",
   "execution_count": 1961,
   "id": "3a4efb14-8053-4123-aa4b-a48079388a1d",
   "metadata": {},
   "outputs": [
    {
     "data": {
      "text/plain": [
       "Text(0, 0.5, 'Loan Amount')"
      ]
     },
     "execution_count": 1961,
     "metadata": {},
     "output_type": "execute_result"
    },
    {
     "data": {
      "image/png": "[encoded data removed]",
      "text/plain": [
       "<Figure size 640x480 with 1 Axes>"
      ]
     },
     "metadata": {},
     "output_type": "display_data"
    }
   ],
   "source": [
    "sns.lineplot(x = 'Loan Purpose',y = 'Loan Amount', data = df6, marker = 'o' , color = 'grey')\n",
    "plt.title('Total Loan Amount Per Loan Purpose', fontsize = 12, fontweight = 'bold')\n",
    "plt.xlabel('Loan Purpose')\n",
    "plt.ylabel('Loan Amount')"
   ]
  },
  {
   "cell_type": "code",
   "execution_count": 1964,
   "id": "6a13b9d6-0ac4-4477-8ef7-3abdaf889954",
   "metadata": {},
   "outputs": [
    {
     "data": {
      "text/plain": [
       "Marital Status\n",
       "Single      27294.807621\n",
       "Divorced    27407.976061\n",
       "Married     27457.115999\n",
       "Widowed     27631.043828\n",
       "Name: Loan Amount, dtype: float64"
      ]
     },
     "execution_count": 1964,
     "metadata": {},
     "output_type": "execute_result"
    }
   ],
   "source": [
    "df.groupby('Marital Status')['Loan Amount'].mean().sort_values()"
   ]
  },
  {
   "cell_type": "code",
   "execution_count": 1969,
   "id": "f6b1616c-1737-4575-903a-d29c40c4dba1",
   "metadata": {},
   "outputs": [],
   "source": [
    "df7 = df.groupby('Marital Status', as_index = False)['Loan Amount'].mean().sort_values(by= 'Loan Amount')"
   ]
  },
  {
   "cell_type": "code",
   "execution_count": 2083,
   "id": "bc79bbd0-f7f2-4641-bef2-b0e6018eac83",
   "metadata": {},
   "outputs": [
    {
     "data": {
      "text/plain": [
       "Text(0, 0.5, 'Loan Amount')"
      ]
     },
     "execution_count": 2083,
     "metadata": {},
     "output_type": "execute_result"
    },
    {
     "data": {
      "image/png": "[encoded data removed]",
      "text/plain": [
       "<Figure size 640x480 with 1 Axes>"
      ]
     },
     "metadata": {},
     "output_type": "display_data"
    }
   ],
   "source": [
    "sns.lineplot(x = 'Marital Status',y = 'Loan Amount', data = df7, marker = 'o' , color = 'purple')\n",
    "plt.title('Average Loan Amount Per Marital Status', fontsize = 12, fontweight = 'bold')\n",
    "plt.xlabel('Marital Status')\n",
    "plt.ylabel('Loan Amount')"
   ]
  },
  {
   "cell_type": "code",
   "execution_count": 1971,
   "id": "9f3737b7-3023-4672-906e-66e33daeceed",
   "metadata": {},
   "outputs": [
    {
     "data": {
      "text/html": [
       "<div>\n",
       "<style scoped>\n",
       "    .dataframe tbody tr th:only-of-type {\n",
       "        vertical-align: middle;\n",
       "    }\n",
       "\n",
       "    .dataframe tbody tr th {\n",
       "        vertical-align: top;\n",
       "    }\n",
       "\n",
       "    .dataframe thead th {\n",
       "        text-align: right;\n",
       "    }\n",
       "</style>\n",
       "<table border=\"1\" class=\"dataframe\">\n",
       "  <thead>\n",
       "    <tr style=\"text-align: right;\">\n",
       "      <th></th>\n",
       "      <th>count</th>\n",
       "      <th>unique</th>\n",
       "      <th>top</th>\n",
       "      <th>freq</th>\n",
       "    </tr>\n",
       "    <tr>\n",
       "      <th>Marital Status</th>\n",
       "      <th></th>\n",
       "      <th></th>\n",
       "      <th></th>\n",
       "      <th></th>\n",
       "    </tr>\n",
       "  </thead>\n",
       "  <tbody>\n",
       "    <tr>\n",
       "      <th>Divorced</th>\n",
       "      <td>3787</td>\n",
       "      <td>4</td>\n",
       "      <td>Auto</td>\n",
       "      <td>958</td>\n",
       "    </tr>\n",
       "    <tr>\n",
       "      <th>Married</th>\n",
       "      <td>3623</td>\n",
       "      <td>4</td>\n",
       "      <td>Home</td>\n",
       "      <td>924</td>\n",
       "    </tr>\n",
       "    <tr>\n",
       "      <th>Single</th>\n",
       "      <td>3697</td>\n",
       "      <td>4</td>\n",
       "      <td>Personal</td>\n",
       "      <td>935</td>\n",
       "    </tr>\n",
       "    <tr>\n",
       "      <th>Widowed</th>\n",
       "      <td>3893</td>\n",
       "      <td>4</td>\n",
       "      <td>Business</td>\n",
       "      <td>1019</td>\n",
       "    </tr>\n",
       "  </tbody>\n",
       "</table>\n",
       "</div>"
      ],
      "text/plain": [
       "               count unique       top  freq\n",
       "Marital Status                             \n",
       "Divorced        3787      4      Auto   958\n",
       "Married         3623      4      Home   924\n",
       "Single          3697      4  Personal   935\n",
       "Widowed         3893      4  Business  1019"
      ]
     },
     "execution_count": 1971,
     "metadata": {},
     "output_type": "execute_result"
    }
   ],
   "source": [
    "df.groupby('Marital Status')['Loan Purpose'].describe()"
   ]
  },
  {
   "cell_type": "code",
   "execution_count": 1972,
   "id": "42a0743f-21de-443d-87ec-74b9c6709665",
   "metadata": {},
   "outputs": [
    {
     "data": {
      "text/html": [
       "<div>\n",
       "<style scoped>\n",
       "    .dataframe tbody tr th:only-of-type {\n",
       "        vertical-align: middle;\n",
       "    }\n",
       "\n",
       "    .dataframe tbody tr th {\n",
       "        vertical-align: top;\n",
       "    }\n",
       "\n",
       "    .dataframe thead th {\n",
       "        text-align: right;\n",
       "    }\n",
       "</style>\n",
       "<table border=\"1\" class=\"dataframe\">\n",
       "  <thead>\n",
       "    <tr style=\"text-align: right;\">\n",
       "      <th></th>\n",
       "      <th>count</th>\n",
       "      <th>unique</th>\n",
       "      <th>top</th>\n",
       "      <th>freq</th>\n",
       "    </tr>\n",
       "    <tr>\n",
       "      <th>Previous Defaults</th>\n",
       "      <th></th>\n",
       "      <th></th>\n",
       "      <th></th>\n",
       "      <th></th>\n",
       "    </tr>\n",
       "  </thead>\n",
       "  <tbody>\n",
       "    <tr>\n",
       "      <th>0.000000</th>\n",
       "      <td>2571</td>\n",
       "      <td>3</td>\n",
       "      <td>Low</td>\n",
       "      <td>1603</td>\n",
       "    </tr>\n",
       "    <tr>\n",
       "      <th>1.000000</th>\n",
       "      <td>2569</td>\n",
       "      <td>3</td>\n",
       "      <td>Low</td>\n",
       "      <td>1493</td>\n",
       "    </tr>\n",
       "    <tr>\n",
       "      <th>1.981763</th>\n",
       "      <td>749</td>\n",
       "      <td>3</td>\n",
       "      <td>Low</td>\n",
       "      <td>440</td>\n",
       "    </tr>\n",
       "    <tr>\n",
       "      <th>1.984816</th>\n",
       "      <td>776</td>\n",
       "      <td>3</td>\n",
       "      <td>Low</td>\n",
       "      <td>463</td>\n",
       "    </tr>\n",
       "    <tr>\n",
       "      <th>2.000000</th>\n",
       "      <td>2559</td>\n",
       "      <td>3</td>\n",
       "      <td>Low</td>\n",
       "      <td>1533</td>\n",
       "    </tr>\n",
       "    <tr>\n",
       "      <th>2.010803</th>\n",
       "      <td>725</td>\n",
       "      <td>3</td>\n",
       "      <td>Low</td>\n",
       "      <td>424</td>\n",
       "    </tr>\n",
       "    <tr>\n",
       "      <th>3.000000</th>\n",
       "      <td>2487</td>\n",
       "      <td>3</td>\n",
       "      <td>Low</td>\n",
       "      <td>1481</td>\n",
       "    </tr>\n",
       "    <tr>\n",
       "      <th>4.000000</th>\n",
       "      <td>2564</td>\n",
       "      <td>3</td>\n",
       "      <td>Low</td>\n",
       "      <td>1563</td>\n",
       "    </tr>\n",
       "  </tbody>\n",
       "</table>\n",
       "</div>"
      ],
      "text/plain": [
       "                  count unique  top  freq\n",
       "Previous Defaults                        \n",
       "0.000000           2571      3  Low  1603\n",
       "1.000000           2569      3  Low  1493\n",
       "1.981763            749      3  Low   440\n",
       "1.984816            776      3  Low   463\n",
       "2.000000           2559      3  Low  1533\n",
       "2.010803            725      3  Low   424\n",
       "3.000000           2487      3  Low  1481\n",
       "4.000000           2564      3  Low  1563"
      ]
     },
     "execution_count": 1972,
     "metadata": {},
     "output_type": "execute_result"
    }
   ],
   "source": [
    "df.groupby('Previous Defaults')['Risk Rating'].describe()"
   ]
  },
  {
   "cell_type": "code",
   "execution_count": 1973,
   "id": "3cbab246-b5a6-47bb-95ee-12c7b5f91bf3",
   "metadata": {},
   "outputs": [
    {
     "data": {
      "text/plain": [
       "Risk Rating\n",
       "High      4.185646e+07\n",
       "Medium    1.235242e+08\n",
       "Low       2.463670e+08\n",
       "Name: Loan Amount, dtype: float64"
      ]
     },
     "execution_count": 1973,
     "metadata": {},
     "output_type": "execute_result"
    }
   ],
   "source": [
    "df.groupby('Risk Rating')['Loan Amount'].sum().sort_values()"
   ]
  },
  {
   "cell_type": "code",
   "execution_count": 1974,
   "id": "67424f21-9c34-45a3-b9f1-b92d8be7e1c0",
   "metadata": {},
   "outputs": [],
   "source": [
    "df8 = df.groupby('Risk Rating', as_index = False)['Loan Amount'].sum().sort_values(by= 'Loan Amount')"
   ]
  },
  {
   "cell_type": "code",
   "execution_count": 2085,
   "id": "036c344a-8c5c-4bcc-a46e-14958cb07cda",
   "metadata": {},
   "outputs": [
    {
     "data": {
      "text/plain": [
       "Text(0, 0.5, 'Loan Amount')"
      ]
     },
     "execution_count": 2085,
     "metadata": {},
     "output_type": "execute_result"
    },
    {
     "data": {
      "image/png": "[encoded data removed]",
      "text/plain": [
       "<Figure size 640x480 with 1 Axes>"
      ]
     },
     "metadata": {},
     "output_type": "display_data"
    }
   ],
   "source": [
    "sns.barplot(x = 'Risk Rating', y = 'Loan Amount', data = df8, color = '#fb5607')\n",
    "plt.title('Total Loan Amount per Risk Rating', fontsize = 12, fontweight = 'bold')\n",
    "plt.xlabel('Risk Rating')\n",
    "plt.ylabel('Loan Amount')"
   ]
  },
  {
   "cell_type": "code",
   "execution_count": 1977,
   "id": "2f982abf-e405-499b-aaf5-b5ba17d4f8d3",
   "metadata": {},
   "outputs": [
    {
     "data": {
      "text/plain": [
       "Risk Rating\n",
       "Low       27374.1\n",
       "Medium    27449.8\n",
       "High      27904.3\n",
       "Name: Loan Amount, dtype: float64"
      ]
     },
     "execution_count": 1977,
     "metadata": {},
     "output_type": "execute_result"
    }
   ],
   "source": [
    "df.groupby('Risk Rating')['Loan Amount'].mean().sort_values().round(1)"
   ]
  },
  {
   "cell_type": "code",
   "execution_count": 1978,
   "id": "4869efc2-92d8-4a6c-a4c8-c7dcefa4b008",
   "metadata": {},
   "outputs": [
    {
     "data": {
      "text/html": [
       "<div>\n",
       "<style scoped>\n",
       "    .dataframe tbody tr th:only-of-type {\n",
       "        vertical-align: middle;\n",
       "    }\n",
       "\n",
       "    .dataframe tbody tr th {\n",
       "        vertical-align: top;\n",
       "    }\n",
       "\n",
       "    .dataframe thead th {\n",
       "        text-align: right;\n",
       "    }\n",
       "</style>\n",
       "<table border=\"1\" class=\"dataframe\">\n",
       "  <thead>\n",
       "    <tr style=\"text-align: right;\">\n",
       "      <th></th>\n",
       "      <th>count</th>\n",
       "      <th>unique</th>\n",
       "      <th>top</th>\n",
       "      <th>freq</th>\n",
       "    </tr>\n",
       "    <tr>\n",
       "      <th>Risk Rating</th>\n",
       "      <th></th>\n",
       "      <th></th>\n",
       "      <th></th>\n",
       "      <th></th>\n",
       "    </tr>\n",
       "  </thead>\n",
       "  <tbody>\n",
       "    <tr>\n",
       "      <th>High</th>\n",
       "      <td>1500</td>\n",
       "      <td>4</td>\n",
       "      <td>PhD</td>\n",
       "      <td>391</td>\n",
       "    </tr>\n",
       "    <tr>\n",
       "      <th>Low</th>\n",
       "      <td>9000</td>\n",
       "      <td>4</td>\n",
       "      <td>Bachelor's</td>\n",
       "      <td>2308</td>\n",
       "    </tr>\n",
       "    <tr>\n",
       "      <th>Medium</th>\n",
       "      <td>4500</td>\n",
       "      <td>4</td>\n",
       "      <td>Bachelor's</td>\n",
       "      <td>1152</td>\n",
       "    </tr>\n",
       "  </tbody>\n",
       "</table>\n",
       "</div>"
      ],
      "text/plain": [
       "            count unique         top  freq\n",
       "Risk Rating                               \n",
       "High         1500      4         PhD   391\n",
       "Low          9000      4  Bachelor's  2308\n",
       "Medium       4500      4  Bachelor's  1152"
      ]
     },
     "execution_count": 1978,
     "metadata": {},
     "output_type": "execute_result"
    }
   ],
   "source": [
    "df.groupby('Risk Rating')['Education Level'].describe()"
   ]
  },
  {
   "cell_type": "code",
   "execution_count": 1980,
   "id": "82a832b9-38b5-4481-9b9c-19a3b21a49b4",
   "metadata": {},
   "outputs": [
    {
     "data": {
      "text/plain": [
       "Education Level\n",
       "Bachelor's     9.4\n",
       "Master's       9.4\n",
       "PhD            9.5\n",
       "High School    9.6\n",
       "Name: Years at Current Job, dtype: float64"
      ]
     },
     "execution_count": 1980,
     "metadata": {},
     "output_type": "execute_result"
    }
   ],
   "source": [
    "df.groupby('Education Level')['Years at Current Job'].mean().sort_values().round(1)"
   ]
  },
  {
   "cell_type": "code",
   "execution_count": 1981,
   "id": "5ef77c23-a4a0-44da-9cb1-8ba400583950",
   "metadata": {},
   "outputs": [
    {
     "data": {
      "text/plain": [
       "Marital Status\n",
       "Widowed     9.3\n",
       "Married     9.4\n",
       "Single      9.6\n",
       "Divorced    9.6\n",
       "Name: Years at Current Job, dtype: float64"
      ]
     },
     "execution_count": 1981,
     "metadata": {},
     "output_type": "execute_result"
    }
   ],
   "source": [
    "df.groupby('Marital Status')['Years at Current Job'].mean().sort_values().round(1)"
   ]
  },
  {
   "cell_type": "code",
   "execution_count": 1982,
   "id": "3e9236c5-4039-427a-82c6-80f5367c8b0f",
   "metadata": {},
   "outputs": [
    {
     "data": {
      "text/plain": [
       "Risk Rating\n",
       "Low       9.4\n",
       "Medium    9.5\n",
       "High      9.6\n",
       "Name: Years at Current Job, dtype: float64"
      ]
     },
     "execution_count": 1982,
     "metadata": {},
     "output_type": "execute_result"
    }
   ],
   "source": [
    "df.groupby('Risk Rating')['Years at Current Job'].mean().sort_values().round(1)"
   ]
  },
  {
   "cell_type": "code",
   "execution_count": 1983,
   "id": "ff8e03e6-2300-4190-8989-09b1b1b82c05",
   "metadata": {},
   "outputs": [
    {
     "data": {
      "text/html": [
       "<div>\n",
       "<style scoped>\n",
       "    .dataframe tbody tr th:only-of-type {\n",
       "        vertical-align: middle;\n",
       "    }\n",
       "\n",
       "    .dataframe tbody tr th {\n",
       "        vertical-align: top;\n",
       "    }\n",
       "\n",
       "    .dataframe thead th {\n",
       "        text-align: right;\n",
       "    }\n",
       "</style>\n",
       "<table border=\"1\" class=\"dataframe\">\n",
       "  <thead>\n",
       "    <tr style=\"text-align: right;\">\n",
       "      <th></th>\n",
       "      <th>count</th>\n",
       "      <th>unique</th>\n",
       "      <th>top</th>\n",
       "      <th>freq</th>\n",
       "    </tr>\n",
       "    <tr>\n",
       "      <th>Marital Status</th>\n",
       "      <th></th>\n",
       "      <th></th>\n",
       "      <th></th>\n",
       "      <th></th>\n",
       "    </tr>\n",
       "  </thead>\n",
       "  <tbody>\n",
       "    <tr>\n",
       "      <th>Divorced</th>\n",
       "      <td>3787</td>\n",
       "      <td>4</td>\n",
       "      <td>Good</td>\n",
       "      <td>996</td>\n",
       "    </tr>\n",
       "    <tr>\n",
       "      <th>Married</th>\n",
       "      <td>3623</td>\n",
       "      <td>4</td>\n",
       "      <td>Excellent</td>\n",
       "      <td>930</td>\n",
       "    </tr>\n",
       "    <tr>\n",
       "      <th>Single</th>\n",
       "      <td>3697</td>\n",
       "      <td>4</td>\n",
       "      <td>Good</td>\n",
       "      <td>950</td>\n",
       "    </tr>\n",
       "    <tr>\n",
       "      <th>Widowed</th>\n",
       "      <td>3893</td>\n",
       "      <td>4</td>\n",
       "      <td>Fair</td>\n",
       "      <td>1001</td>\n",
       "    </tr>\n",
       "  </tbody>\n",
       "</table>\n",
       "</div>"
      ],
      "text/plain": [
       "               count unique        top  freq\n",
       "Marital Status                              \n",
       "Divorced        3787      4       Good   996\n",
       "Married         3623      4  Excellent   930\n",
       "Single          3697      4       Good   950\n",
       "Widowed         3893      4       Fair  1001"
      ]
     },
     "execution_count": 1983,
     "metadata": {},
     "output_type": "execute_result"
    }
   ],
   "source": [
    "df.groupby('Marital Status')['Payment History'].describe()"
   ]
  },
  {
   "cell_type": "code",
   "execution_count": 1984,
   "id": "db8da345-88f0-40cb-897e-e196acf01a7e",
   "metadata": {},
   "outputs": [
    {
     "data": {
      "text/html": [
       "<div>\n",
       "<style scoped>\n",
       "    .dataframe tbody tr th:only-of-type {\n",
       "        vertical-align: middle;\n",
       "    }\n",
       "\n",
       "    .dataframe tbody tr th {\n",
       "        vertical-align: top;\n",
       "    }\n",
       "\n",
       "    .dataframe thead th {\n",
       "        text-align: right;\n",
       "    }\n",
       "</style>\n",
       "<table border=\"1\" class=\"dataframe\">\n",
       "  <thead>\n",
       "    <tr style=\"text-align: right;\">\n",
       "      <th></th>\n",
       "      <th>count</th>\n",
       "      <th>unique</th>\n",
       "      <th>top</th>\n",
       "      <th>freq</th>\n",
       "    </tr>\n",
       "    <tr>\n",
       "      <th>Education Level</th>\n",
       "      <th></th>\n",
       "      <th></th>\n",
       "      <th></th>\n",
       "      <th></th>\n",
       "    </tr>\n",
       "  </thead>\n",
       "  <tbody>\n",
       "    <tr>\n",
       "      <th>Bachelor's</th>\n",
       "      <td>3829</td>\n",
       "      <td>4</td>\n",
       "      <td>Good</td>\n",
       "      <td>989</td>\n",
       "    </tr>\n",
       "    <tr>\n",
       "      <th>High School</th>\n",
       "      <td>3774</td>\n",
       "      <td>4</td>\n",
       "      <td>Poor</td>\n",
       "      <td>967</td>\n",
       "    </tr>\n",
       "    <tr>\n",
       "      <th>Master's</th>\n",
       "      <td>3637</td>\n",
       "      <td>4</td>\n",
       "      <td>Excellent</td>\n",
       "      <td>966</td>\n",
       "    </tr>\n",
       "    <tr>\n",
       "      <th>PhD</th>\n",
       "      <td>3760</td>\n",
       "      <td>4</td>\n",
       "      <td>Good</td>\n",
       "      <td>969</td>\n",
       "    </tr>\n",
       "  </tbody>\n",
       "</table>\n",
       "</div>"
      ],
      "text/plain": [
       "                count unique        top freq\n",
       "Education Level                             \n",
       "Bachelor's       3829      4       Good  989\n",
       "High School      3774      4       Poor  967\n",
       "Master's         3637      4  Excellent  966\n",
       "PhD              3760      4       Good  969"
      ]
     },
     "execution_count": 1984,
     "metadata": {},
     "output_type": "execute_result"
    }
   ],
   "source": [
    "df.groupby('Education Level')['Payment History'].describe()"
   ]
  },
  {
   "cell_type": "code",
   "execution_count": 1985,
   "id": "31222382-f3a9-42a2-af40-4cb89af0087a",
   "metadata": {},
   "outputs": [
    {
     "data": {
      "text/html": [
       "<div>\n",
       "<style scoped>\n",
       "    .dataframe tbody tr th:only-of-type {\n",
       "        vertical-align: middle;\n",
       "    }\n",
       "\n",
       "    .dataframe tbody tr th {\n",
       "        vertical-align: top;\n",
       "    }\n",
       "\n",
       "    .dataframe thead th {\n",
       "        text-align: right;\n",
       "    }\n",
       "</style>\n",
       "<table border=\"1\" class=\"dataframe\">\n",
       "  <thead>\n",
       "    <tr style=\"text-align: right;\">\n",
       "      <th></th>\n",
       "      <th>count</th>\n",
       "      <th>unique</th>\n",
       "      <th>top</th>\n",
       "      <th>freq</th>\n",
       "    </tr>\n",
       "    <tr>\n",
       "      <th>Education Level</th>\n",
       "      <th></th>\n",
       "      <th></th>\n",
       "      <th></th>\n",
       "      <th></th>\n",
       "    </tr>\n",
       "  </thead>\n",
       "  <tbody>\n",
       "    <tr>\n",
       "      <th>Bachelor's</th>\n",
       "      <td>3829</td>\n",
       "      <td>4</td>\n",
       "      <td>Good</td>\n",
       "      <td>989</td>\n",
       "    </tr>\n",
       "    <tr>\n",
       "      <th>High School</th>\n",
       "      <td>3774</td>\n",
       "      <td>4</td>\n",
       "      <td>Poor</td>\n",
       "      <td>967</td>\n",
       "    </tr>\n",
       "    <tr>\n",
       "      <th>Master's</th>\n",
       "      <td>3637</td>\n",
       "      <td>4</td>\n",
       "      <td>Excellent</td>\n",
       "      <td>966</td>\n",
       "    </tr>\n",
       "    <tr>\n",
       "      <th>PhD</th>\n",
       "      <td>3760</td>\n",
       "      <td>4</td>\n",
       "      <td>Good</td>\n",
       "      <td>969</td>\n",
       "    </tr>\n",
       "  </tbody>\n",
       "</table>\n",
       "</div>"
      ],
      "text/plain": [
       "                count unique        top freq\n",
       "Education Level                             \n",
       "Bachelor's       3829      4       Good  989\n",
       "High School      3774      4       Poor  967\n",
       "Master's         3637      4  Excellent  966\n",
       "PhD              3760      4       Good  969"
      ]
     },
     "execution_count": 1985,
     "metadata": {},
     "output_type": "execute_result"
    }
   ],
   "source": [
    "df.groupby('Education Level')['Payment History'].describe()"
   ]
  },
  {
   "cell_type": "code",
   "execution_count": 1986,
   "id": "52dbfc26-8e47-4ec7-89d7-932cf9761a05",
   "metadata": {},
   "outputs": [
    {
     "data": {
      "text/plain": [
       "Education Level\n",
       "Bachelor's     43.2\n",
       "Master's       43.4\n",
       "High School    43.5\n",
       "PhD            43.6\n",
       "Name: Age, dtype: float64"
      ]
     },
     "execution_count": 1986,
     "metadata": {},
     "output_type": "execute_result"
    }
   ],
   "source": [
    "df.groupby('Education Level')['Age'].mean().sort_values().round(1)"
   ]
  },
  {
   "cell_type": "code",
   "execution_count": 1987,
   "id": "b095b124-ba92-4610-a713-6cd41e16d90e",
   "metadata": {},
   "outputs": [
    {
     "data": {
      "text/plain": [
       "Employment Status\n",
       "Self-employed    43.3\n",
       "Employed         43.5\n",
       "Unemployed       43.6\n",
       "Name: Age, dtype: float64"
      ]
     },
     "execution_count": 1987,
     "metadata": {},
     "output_type": "execute_result"
    }
   ],
   "source": [
    "df.groupby('Employment Status')['Age'].mean().sort_values().round(1)"
   ]
  },
  {
   "cell_type": "code",
   "execution_count": 1988,
   "id": "7be423aa-b70d-4eb7-9c8c-b17914d26b28",
   "metadata": {},
   "outputs": [
    {
     "data": {
      "text/plain": [
       "Loan Purpose\n",
       "Business    159464.5\n",
       "Home        159831.7\n",
       "Personal    159854.2\n",
       "Auto        159855.2\n",
       "Name: Assets Value, dtype: float64"
      ]
     },
     "execution_count": 1988,
     "metadata": {},
     "output_type": "execute_result"
    }
   ],
   "source": [
    "df.groupby('Loan Purpose')['Assets Value'].mean().sort_values().round(1)"
   ]
  },
  {
   "cell_type": "code",
   "execution_count": 1990,
   "id": "613212b4-2c6b-4e55-9ca7-ef133898207e",
   "metadata": {},
   "outputs": [
    {
     "data": {
      "text/plain": [
       "Marital Status\n",
       "Married     158156.0\n",
       "Single      158749.6\n",
       "Divorced    159576.3\n",
       "Widowed     162358.9\n",
       "Name: Assets Value, dtype: float64"
      ]
     },
     "execution_count": 1990,
     "metadata": {},
     "output_type": "execute_result"
    }
   ],
   "source": [
    "df.groupby('Marital Status')['Assets Value'].mean().sort_values().round(1)"
   ]
  },
  {
   "cell_type": "code",
   "execution_count": 1991,
   "id": "22ae68e1-d732-4974-8433-4fe45636e3eb",
   "metadata": {},
   "outputs": [
    {
     "data": {
      "text/html": [
       "<div>\n",
       "<style scoped>\n",
       "    .dataframe tbody tr th:only-of-type {\n",
       "        vertical-align: middle;\n",
       "    }\n",
       "\n",
       "    .dataframe tbody tr th {\n",
       "        vertical-align: top;\n",
       "    }\n",
       "\n",
       "    .dataframe thead th {\n",
       "        text-align: right;\n",
       "    }\n",
       "</style>\n",
       "<table border=\"1\" class=\"dataframe\">\n",
       "  <thead>\n",
       "    <tr style=\"text-align: right;\">\n",
       "      <th></th>\n",
       "      <th>count</th>\n",
       "      <th>unique</th>\n",
       "      <th>top</th>\n",
       "      <th>freq</th>\n",
       "    </tr>\n",
       "    <tr>\n",
       "      <th>Payment History</th>\n",
       "      <th></th>\n",
       "      <th></th>\n",
       "      <th></th>\n",
       "      <th></th>\n",
       "    </tr>\n",
       "  </thead>\n",
       "  <tbody>\n",
       "    <tr>\n",
       "      <th>Excellent</th>\n",
       "      <td>3789</td>\n",
       "      <td>4</td>\n",
       "      <td>Master's</td>\n",
       "      <td>966</td>\n",
       "    </tr>\n",
       "    <tr>\n",
       "      <th>Fair</th>\n",
       "      <td>3673</td>\n",
       "      <td>4</td>\n",
       "      <td>Bachelor's</td>\n",
       "      <td>955</td>\n",
       "    </tr>\n",
       "    <tr>\n",
       "      <th>Good</th>\n",
       "      <td>3822</td>\n",
       "      <td>4</td>\n",
       "      <td>Bachelor's</td>\n",
       "      <td>989</td>\n",
       "    </tr>\n",
       "    <tr>\n",
       "      <th>Poor</th>\n",
       "      <td>3716</td>\n",
       "      <td>4</td>\n",
       "      <td>High School</td>\n",
       "      <td>967</td>\n",
       "    </tr>\n",
       "  </tbody>\n",
       "</table>\n",
       "</div>"
      ],
      "text/plain": [
       "                count unique          top freq\n",
       "Payment History                               \n",
       "Excellent        3789      4     Master's  966\n",
       "Fair             3673      4   Bachelor's  955\n",
       "Good             3822      4   Bachelor's  989\n",
       "Poor             3716      4  High School  967"
      ]
     },
     "execution_count": 1991,
     "metadata": {},
     "output_type": "execute_result"
    }
   ],
   "source": [
    "df.groupby('Payment History')['Education Level'].describe()"
   ]
  },
  {
   "cell_type": "code",
   "execution_count": 2073,
   "id": "a22645ce-eba5-4f20-a95e-78718e9a71b6",
   "metadata": {},
   "outputs": [
    {
     "data": {
      "text/html": [
       "<div>\n",
       "<style scoped>\n",
       "    .dataframe tbody tr th:only-of-type {\n",
       "        vertical-align: middle;\n",
       "    }\n",
       "\n",
       "    .dataframe tbody tr th {\n",
       "        vertical-align: top;\n",
       "    }\n",
       "\n",
       "    .dataframe thead th {\n",
       "        text-align: right;\n",
       "    }\n",
       "</style>\n",
       "<table border=\"1\" class=\"dataframe\">\n",
       "  <thead>\n",
       "    <tr style=\"text-align: right;\">\n",
       "      <th></th>\n",
       "      <th>count</th>\n",
       "      <th>unique</th>\n",
       "      <th>top</th>\n",
       "      <th>freq</th>\n",
       "    </tr>\n",
       "    <tr>\n",
       "      <th>Payment History</th>\n",
       "      <th></th>\n",
       "      <th></th>\n",
       "      <th></th>\n",
       "      <th></th>\n",
       "    </tr>\n",
       "  </thead>\n",
       "  <tbody>\n",
       "    <tr>\n",
       "      <th>Excellent</th>\n",
       "      <td>3789</td>\n",
       "      <td>3</td>\n",
       "      <td>Employed</td>\n",
       "      <td>1292</td>\n",
       "    </tr>\n",
       "    <tr>\n",
       "      <th>Fair</th>\n",
       "      <td>3673</td>\n",
       "      <td>3</td>\n",
       "      <td>Self-employed</td>\n",
       "      <td>1225</td>\n",
       "    </tr>\n",
       "    <tr>\n",
       "      <th>Good</th>\n",
       "      <td>3822</td>\n",
       "      <td>3</td>\n",
       "      <td>Self-employed</td>\n",
       "      <td>1295</td>\n",
       "    </tr>\n",
       "    <tr>\n",
       "      <th>Poor</th>\n",
       "      <td>3716</td>\n",
       "      <td>3</td>\n",
       "      <td>Unemployed</td>\n",
       "      <td>1270</td>\n",
       "    </tr>\n",
       "  </tbody>\n",
       "</table>\n",
       "</div>"
      ],
      "text/plain": [
       "                count unique            top  freq\n",
       "Payment History                                  \n",
       "Excellent        3789      3       Employed  1292\n",
       "Fair             3673      3  Self-employed  1225\n",
       "Good             3822      3  Self-employed  1295\n",
       "Poor             3716      3     Unemployed  1270"
      ]
     },
     "execution_count": 2073,
     "metadata": {},
     "output_type": "execute_result"
    }
   ],
   "source": [
    "df.groupby('Payment History')['Employment Status'].describe()"
   ]
  },
  {
   "cell_type": "code",
   "execution_count": 1994,
   "id": "bb6c571c-89ff-4806-bb11-3a72243ebfa2",
   "metadata": {},
   "outputs": [
    {
     "data": {
      "text/plain": [
       "Education Level\n",
       "Master's       0.347\n",
       "Bachelor's     0.350\n",
       "PhD            0.351\n",
       "High School    0.354\n",
       "Name: Debt-to-Income Ratio, dtype: float64"
      ]
     },
     "execution_count": 1994,
     "metadata": {},
     "output_type": "execute_result"
    }
   ],
   "source": [
    "df.groupby('Education Level')['Debt-to-Income Ratio'].mean().sort_values().round(3)"
   ]
  },
  {
   "cell_type": "code",
   "execution_count": 1997,
   "id": "f1abc6fa-dd72-449c-aee1-ec6af598e4b3",
   "metadata": {},
   "outputs": [
    {
     "data": {
      "text/plain": [
       "Employment Status\n",
       "Employed         0.348\n",
       "Unemployed       0.352\n",
       "Self-employed    0.352\n",
       "Name: Debt-to-Income Ratio, dtype: float64"
      ]
     },
     "execution_count": 1997,
     "metadata": {},
     "output_type": "execute_result"
    }
   ],
   "source": [
    "df.groupby('Employment Status')['Debt-to-Income Ratio'].mean().sort_values().round(3)"
   ]
  },
  {
   "cell_type": "code",
   "execution_count": 1998,
   "id": "ca7cc3e8-9a45-445f-b9c7-2a3dcf043090",
   "metadata": {},
   "outputs": [
    {
     "data": {
      "text/plain": [
       "Employment Status\n",
       "Self-employed    698.76\n",
       "Employed         699.05\n",
       "Unemployed       699.53\n",
       "Name: Credit Score, dtype: float64"
      ]
     },
     "execution_count": 1998,
     "metadata": {},
     "output_type": "execute_result"
    }
   ],
   "source": [
    "df.groupby('Employment Status')['Credit Score'].mean().sort_values().round(2)"
   ]
  },
  {
   "cell_type": "code",
   "execution_count": 1999,
   "id": "62fd1d0d-1c12-4bb4-8dc8-8b943d9c4453",
   "metadata": {},
   "outputs": [
    {
     "data": {
      "text/plain": [
       "Marital Status\n",
       "Single      698.21\n",
       "Widowed     698.75\n",
       "Divorced    699.49\n",
       "Married     700.02\n",
       "Name: Credit Score, dtype: float64"
      ]
     },
     "execution_count": 1999,
     "metadata": {},
     "output_type": "execute_result"
    }
   ],
   "source": [
    "df.groupby('Marital Status')['Credit Score'].mean().sort_values().round(2)"
   ]
  },
  {
   "cell_type": "code",
   "execution_count": 2000,
   "id": "42230ae2-9e73-4390-9787-5ec92f6f0b2b",
   "metadata": {},
   "outputs": [
    {
     "data": {
      "text/plain": [
       "Education Level\n",
       "High School    697.9\n",
       "Bachelor's     698.7\n",
       "Master's       699.0\n",
       "PhD            700.9\n",
       "Name: Credit Score, dtype: float64"
      ]
     },
     "execution_count": 2000,
     "metadata": {},
     "output_type": "execute_result"
    }
   ],
   "source": [
    "df.groupby('Education Level')['Credit Score'].mean().sort_values().round(1)"
   ]
  },
  {
   "cell_type": "code",
   "execution_count": 2001,
   "id": "ff21d011-10f5-4ec5-8729-4c9f99499ef7",
   "metadata": {},
   "outputs": [
    {
     "data": {
      "text/html": [
       "<div>\n",
       "<style scoped>\n",
       "    .dataframe tbody tr th:only-of-type {\n",
       "        vertical-align: middle;\n",
       "    }\n",
       "\n",
       "    .dataframe tbody tr th {\n",
       "        vertical-align: top;\n",
       "    }\n",
       "\n",
       "    .dataframe thead th {\n",
       "        text-align: right;\n",
       "    }\n",
       "</style>\n",
       "<table border=\"1\" class=\"dataframe\">\n",
       "  <thead>\n",
       "    <tr style=\"text-align: right;\">\n",
       "      <th></th>\n",
       "      <th>count</th>\n",
       "      <th>unique</th>\n",
       "      <th>top</th>\n",
       "      <th>freq</th>\n",
       "    </tr>\n",
       "    <tr>\n",
       "      <th>Country</th>\n",
       "      <th></th>\n",
       "      <th></th>\n",
       "      <th></th>\n",
       "      <th></th>\n",
       "    </tr>\n",
       "  </thead>\n",
       "  <tbody>\n",
       "    <tr>\n",
       "      <th>Afghanistan</th>\n",
       "      <td>50</td>\n",
       "      <td>4</td>\n",
       "      <td>High School</td>\n",
       "      <td>15</td>\n",
       "    </tr>\n",
       "    <tr>\n",
       "      <th>Albania</th>\n",
       "      <td>59</td>\n",
       "      <td>4</td>\n",
       "      <td>PhD</td>\n",
       "      <td>19</td>\n",
       "    </tr>\n",
       "    <tr>\n",
       "      <th>Algeria</th>\n",
       "      <td>64</td>\n",
       "      <td>4</td>\n",
       "      <td>PhD</td>\n",
       "      <td>20</td>\n",
       "    </tr>\n",
       "    <tr>\n",
       "      <th>American Samoa</th>\n",
       "      <td>60</td>\n",
       "      <td>4</td>\n",
       "      <td>High School</td>\n",
       "      <td>18</td>\n",
       "    </tr>\n",
       "    <tr>\n",
       "      <th>Andorra</th>\n",
       "      <td>72</td>\n",
       "      <td>4</td>\n",
       "      <td>Bachelor's</td>\n",
       "      <td>21</td>\n",
       "    </tr>\n",
       "    <tr>\n",
       "      <th>...</th>\n",
       "      <td>...</td>\n",
       "      <td>...</td>\n",
       "      <td>...</td>\n",
       "      <td>...</td>\n",
       "    </tr>\n",
       "    <tr>\n",
       "      <th>Wallis and Futuna</th>\n",
       "      <td>59</td>\n",
       "      <td>4</td>\n",
       "      <td>PhD</td>\n",
       "      <td>17</td>\n",
       "    </tr>\n",
       "    <tr>\n",
       "      <th>Western Sahara</th>\n",
       "      <td>70</td>\n",
       "      <td>4</td>\n",
       "      <td>Bachelor's</td>\n",
       "      <td>26</td>\n",
       "    </tr>\n",
       "    <tr>\n",
       "      <th>Yemen</th>\n",
       "      <td>72</td>\n",
       "      <td>4</td>\n",
       "      <td>PhD</td>\n",
       "      <td>25</td>\n",
       "    </tr>\n",
       "    <tr>\n",
       "      <th>Zambia</th>\n",
       "      <td>73</td>\n",
       "      <td>4</td>\n",
       "      <td>High School</td>\n",
       "      <td>27</td>\n",
       "    </tr>\n",
       "    <tr>\n",
       "      <th>Zimbabwe</th>\n",
       "      <td>61</td>\n",
       "      <td>4</td>\n",
       "      <td>Bachelor's</td>\n",
       "      <td>17</td>\n",
       "    </tr>\n",
       "  </tbody>\n",
       "</table>\n",
       "<p>243 rows × 4 columns</p>\n",
       "</div>"
      ],
      "text/plain": [
       "                  count unique          top freq\n",
       "Country                                         \n",
       "Afghanistan          50      4  High School   15\n",
       "Albania              59      4          PhD   19\n",
       "Algeria              64      4          PhD   20\n",
       "American Samoa       60      4  High School   18\n",
       "Andorra              72      4   Bachelor's   21\n",
       "...                 ...    ...          ...  ...\n",
       "Wallis and Futuna    59      4          PhD   17\n",
       "Western Sahara       70      4   Bachelor's   26\n",
       "Yemen                72      4          PhD   25\n",
       "Zambia               73      4  High School   27\n",
       "Zimbabwe             61      4   Bachelor's   17\n",
       "\n",
       "[243 rows x 4 columns]"
      ]
     },
     "execution_count": 2001,
     "metadata": {},
     "output_type": "execute_result"
    }
   ],
   "source": [
    "df.groupby('Country')['Education Level'].describe()"
   ]
  },
  {
   "cell_type": "code",
   "execution_count": 2002,
   "id": "70e22aca-f8b4-4764-a4e5-b8f0b8f75235",
   "metadata": {},
   "outputs": [
    {
     "data": {
      "text/html": [
       "<div>\n",
       "<style scoped>\n",
       "    .dataframe tbody tr th:only-of-type {\n",
       "        vertical-align: middle;\n",
       "    }\n",
       "\n",
       "    .dataframe tbody tr th {\n",
       "        vertical-align: top;\n",
       "    }\n",
       "\n",
       "    .dataframe thead th {\n",
       "        text-align: right;\n",
       "    }\n",
       "</style>\n",
       "<table border=\"1\" class=\"dataframe\">\n",
       "  <thead>\n",
       "    <tr style=\"text-align: right;\">\n",
       "      <th></th>\n",
       "      <th>count</th>\n",
       "      <th>unique</th>\n",
       "      <th>top</th>\n",
       "      <th>freq</th>\n",
       "    </tr>\n",
       "    <tr>\n",
       "      <th>Country</th>\n",
       "      <th></th>\n",
       "      <th></th>\n",
       "      <th></th>\n",
       "      <th></th>\n",
       "    </tr>\n",
       "  </thead>\n",
       "  <tbody>\n",
       "    <tr>\n",
       "      <th>Afghanistan</th>\n",
       "      <td>50</td>\n",
       "      <td>4</td>\n",
       "      <td>Business</td>\n",
       "      <td>15</td>\n",
       "    </tr>\n",
       "    <tr>\n",
       "      <th>Albania</th>\n",
       "      <td>59</td>\n",
       "      <td>4</td>\n",
       "      <td>Personal</td>\n",
       "      <td>17</td>\n",
       "    </tr>\n",
       "    <tr>\n",
       "      <th>Algeria</th>\n",
       "      <td>64</td>\n",
       "      <td>4</td>\n",
       "      <td>Home</td>\n",
       "      <td>19</td>\n",
       "    </tr>\n",
       "    <tr>\n",
       "      <th>American Samoa</th>\n",
       "      <td>60</td>\n",
       "      <td>4</td>\n",
       "      <td>Auto</td>\n",
       "      <td>18</td>\n",
       "    </tr>\n",
       "    <tr>\n",
       "      <th>Andorra</th>\n",
       "      <td>72</td>\n",
       "      <td>4</td>\n",
       "      <td>Business</td>\n",
       "      <td>28</td>\n",
       "    </tr>\n",
       "    <tr>\n",
       "      <th>...</th>\n",
       "      <td>...</td>\n",
       "      <td>...</td>\n",
       "      <td>...</td>\n",
       "      <td>...</td>\n",
       "    </tr>\n",
       "    <tr>\n",
       "      <th>Wallis and Futuna</th>\n",
       "      <td>59</td>\n",
       "      <td>4</td>\n",
       "      <td>Personal</td>\n",
       "      <td>19</td>\n",
       "    </tr>\n",
       "    <tr>\n",
       "      <th>Western Sahara</th>\n",
       "      <td>70</td>\n",
       "      <td>4</td>\n",
       "      <td>Auto</td>\n",
       "      <td>24</td>\n",
       "    </tr>\n",
       "    <tr>\n",
       "      <th>Yemen</th>\n",
       "      <td>72</td>\n",
       "      <td>4</td>\n",
       "      <td>Business</td>\n",
       "      <td>21</td>\n",
       "    </tr>\n",
       "    <tr>\n",
       "      <th>Zambia</th>\n",
       "      <td>73</td>\n",
       "      <td>4</td>\n",
       "      <td>Auto</td>\n",
       "      <td>20</td>\n",
       "    </tr>\n",
       "    <tr>\n",
       "      <th>Zimbabwe</th>\n",
       "      <td>61</td>\n",
       "      <td>4</td>\n",
       "      <td>Home</td>\n",
       "      <td>17</td>\n",
       "    </tr>\n",
       "  </tbody>\n",
       "</table>\n",
       "<p>243 rows × 4 columns</p>\n",
       "</div>"
      ],
      "text/plain": [
       "                  count unique       top freq\n",
       "Country                                      \n",
       "Afghanistan          50      4  Business   15\n",
       "Albania              59      4  Personal   17\n",
       "Algeria              64      4      Home   19\n",
       "American Samoa       60      4      Auto   18\n",
       "Andorra              72      4  Business   28\n",
       "...                 ...    ...       ...  ...\n",
       "Wallis and Futuna    59      4  Personal   19\n",
       "Western Sahara       70      4      Auto   24\n",
       "Yemen                72      4  Business   21\n",
       "Zambia               73      4      Auto   20\n",
       "Zimbabwe             61      4      Home   17\n",
       "\n",
       "[243 rows x 4 columns]"
      ]
     },
     "execution_count": 2002,
     "metadata": {},
     "output_type": "execute_result"
    }
   ],
   "source": [
    "df.groupby('Country')['Loan Purpose'].describe()"
   ]
  },
  {
   "cell_type": "code",
   "execution_count": 2004,
   "id": "df6dd98f-8a57-4df3-b6ef-a81718cc3ed0",
   "metadata": {},
   "outputs": [
    {
     "data": {
      "text/plain": [
       "Loan Purpose\n",
       "Auto        69495.4\n",
       "Home        69682.5\n",
       "Business    70203.3\n",
       "Personal    70337.1\n",
       "Name: Income, dtype: float64"
      ]
     },
     "execution_count": 2004,
     "metadata": {},
     "output_type": "execute_result"
    }
   ],
   "source": [
    "df.groupby('Loan Purpose')['Income'].mean().sort_values().round(1)"
   ]
  },
  {
   "cell_type": "code",
   "execution_count": 2006,
   "id": "a87da088-0197-48c3-9b2d-9c2b68fc8118",
   "metadata": {},
   "outputs": [],
   "source": [
    "df9 = df.groupby('Loan Purpose', as_index = False)['Income'].mean().sort_values(by = 'Income').round(1)"
   ]
  },
  {
   "cell_type": "code",
   "execution_count": 2087,
   "id": "c798872a-f76a-40df-b50c-9e710a02b3f4",
   "metadata": {},
   "outputs": [
    {
     "data": {
      "text/plain": [
       "Text(0, 0.5, 'Loan Purpose')"
      ]
     },
     "execution_count": 2087,
     "metadata": {},
     "output_type": "execute_result"
    },
    {
     "data": {
      "image/png": "[encoded data removed]",
      "text/plain": [
       "<Figure size 1000x500 with 1 Axes>"
      ]
     },
     "metadata": {},
     "output_type": "display_data"
    }
   ],
   "source": [
    "plt.figure(figsize = (10,5))\n",
    "sns.set_style('whitegrid')\n",
    "sns.barplot(x = 'Income', y = 'Loan Purpose', data = df9, color = '#4f772d')\n",
    "plt.title('Average Income Per Loan Purpose', fontsize = 12, fontweight = 'bold')\n",
    "plt.xlabel('Income')\n",
    "plt.ylabel('Loan Purpose')"
   ]
  },
  {
   "cell_type": "code",
   "execution_count": 2009,
   "id": "5774ecf7-62c5-49a8-8294-195910765128",
   "metadata": {},
   "outputs": [
    {
     "data": {
      "text/html": [
       "<div>\n",
       "<style scoped>\n",
       "    .dataframe tbody tr th:only-of-type {\n",
       "        vertical-align: middle;\n",
       "    }\n",
       "\n",
       "    .dataframe tbody tr th {\n",
       "        vertical-align: top;\n",
       "    }\n",
       "\n",
       "    .dataframe thead th {\n",
       "        text-align: right;\n",
       "    }\n",
       "</style>\n",
       "<table border=\"1\" class=\"dataframe\">\n",
       "  <thead>\n",
       "    <tr style=\"text-align: right;\">\n",
       "      <th></th>\n",
       "      <th>count</th>\n",
       "      <th>unique</th>\n",
       "      <th>top</th>\n",
       "      <th>freq</th>\n",
       "    </tr>\n",
       "    <tr>\n",
       "      <th>Risk Rating</th>\n",
       "      <th></th>\n",
       "      <th></th>\n",
       "      <th></th>\n",
       "      <th></th>\n",
       "    </tr>\n",
       "  </thead>\n",
       "  <tbody>\n",
       "    <tr>\n",
       "      <th>High</th>\n",
       "      <td>1500</td>\n",
       "      <td>243</td>\n",
       "      <td>Chile</td>\n",
       "      <td>15</td>\n",
       "    </tr>\n",
       "    <tr>\n",
       "      <th>Low</th>\n",
       "      <td>9000</td>\n",
       "      <td>243</td>\n",
       "      <td>Korea</td>\n",
       "      <td>73</td>\n",
       "    </tr>\n",
       "    <tr>\n",
       "      <th>Medium</th>\n",
       "      <td>4500</td>\n",
       "      <td>243</td>\n",
       "      <td>Congo</td>\n",
       "      <td>45</td>\n",
       "    </tr>\n",
       "  </tbody>\n",
       "</table>\n",
       "</div>"
      ],
      "text/plain": [
       "            count unique    top freq\n",
       "Risk Rating                         \n",
       "High         1500    243  Chile   15\n",
       "Low          9000    243  Korea   73\n",
       "Medium       4500    243  Congo   45"
      ]
     },
     "execution_count": 2009,
     "metadata": {},
     "output_type": "execute_result"
    }
   ],
   "source": [
    "df.groupby('Risk Rating')['Country'].describe()"
   ]
  },
  {
   "cell_type": "code",
   "execution_count": 2010,
   "id": "b759596e-9146-4729-a327-6e625d642af3",
   "metadata": {},
   "outputs": [
    {
     "data": {
      "text/html": [
       "<div>\n",
       "<style scoped>\n",
       "    .dataframe tbody tr th:only-of-type {\n",
       "        vertical-align: middle;\n",
       "    }\n",
       "\n",
       "    .dataframe tbody tr th {\n",
       "        vertical-align: top;\n",
       "    }\n",
       "\n",
       "    .dataframe thead th {\n",
       "        text-align: right;\n",
       "    }\n",
       "</style>\n",
       "<table border=\"1\" class=\"dataframe\">\n",
       "  <thead>\n",
       "    <tr style=\"text-align: right;\">\n",
       "      <th></th>\n",
       "      <th>count</th>\n",
       "      <th>unique</th>\n",
       "      <th>top</th>\n",
       "      <th>freq</th>\n",
       "    </tr>\n",
       "    <tr>\n",
       "      <th>Employment Status</th>\n",
       "      <th></th>\n",
       "      <th></th>\n",
       "      <th></th>\n",
       "      <th></th>\n",
       "    </tr>\n",
       "  </thead>\n",
       "  <tbody>\n",
       "    <tr>\n",
       "      <th>Employed</th>\n",
       "      <td>5026</td>\n",
       "      <td>243</td>\n",
       "      <td>Korea</td>\n",
       "      <td>47</td>\n",
       "    </tr>\n",
       "    <tr>\n",
       "      <th>Self-employed</th>\n",
       "      <td>4991</td>\n",
       "      <td>243</td>\n",
       "      <td>Congo</td>\n",
       "      <td>55</td>\n",
       "    </tr>\n",
       "    <tr>\n",
       "      <th>Unemployed</th>\n",
       "      <td>4983</td>\n",
       "      <td>243</td>\n",
       "      <td>Korea</td>\n",
       "      <td>44</td>\n",
       "    </tr>\n",
       "  </tbody>\n",
       "</table>\n",
       "</div>"
      ],
      "text/plain": [
       "                  count unique    top freq\n",
       "Employment Status                         \n",
       "Employed           5026    243  Korea   47\n",
       "Self-employed      4991    243  Congo   55\n",
       "Unemployed         4983    243  Korea   44"
      ]
     },
     "execution_count": 2010,
     "metadata": {},
     "output_type": "execute_result"
    }
   ],
   "source": [
    "df.groupby('Employment Status')['Country'].describe()"
   ]
  },
  {
   "cell_type": "code",
   "execution_count": 2011,
   "id": "e0f87544-af84-46e2-9da8-3a4411867170",
   "metadata": {},
   "outputs": [
    {
     "data": {
      "text/html": [
       "<div>\n",
       "<style scoped>\n",
       "    .dataframe tbody tr th:only-of-type {\n",
       "        vertical-align: middle;\n",
       "    }\n",
       "\n",
       "    .dataframe tbody tr th {\n",
       "        vertical-align: top;\n",
       "    }\n",
       "\n",
       "    .dataframe thead th {\n",
       "        text-align: right;\n",
       "    }\n",
       "</style>\n",
       "<table border=\"1\" class=\"dataframe\">\n",
       "  <thead>\n",
       "    <tr style=\"text-align: right;\">\n",
       "      <th></th>\n",
       "      <th>count</th>\n",
       "      <th>unique</th>\n",
       "      <th>top</th>\n",
       "      <th>freq</th>\n",
       "    </tr>\n",
       "    <tr>\n",
       "      <th>Education Level</th>\n",
       "      <th></th>\n",
       "      <th></th>\n",
       "      <th></th>\n",
       "      <th></th>\n",
       "    </tr>\n",
       "  </thead>\n",
       "  <tbody>\n",
       "    <tr>\n",
       "      <th>Bachelor's</th>\n",
       "      <td>3829</td>\n",
       "      <td>243</td>\n",
       "      <td>Congo</td>\n",
       "      <td>33</td>\n",
       "    </tr>\n",
       "    <tr>\n",
       "      <th>High School</th>\n",
       "      <td>3774</td>\n",
       "      <td>243</td>\n",
       "      <td>Korea</td>\n",
       "      <td>37</td>\n",
       "    </tr>\n",
       "    <tr>\n",
       "      <th>Master's</th>\n",
       "      <td>3637</td>\n",
       "      <td>243</td>\n",
       "      <td>Korea</td>\n",
       "      <td>28</td>\n",
       "    </tr>\n",
       "    <tr>\n",
       "      <th>PhD</th>\n",
       "      <td>3760</td>\n",
       "      <td>243</td>\n",
       "      <td>Congo</td>\n",
       "      <td>37</td>\n",
       "    </tr>\n",
       "  </tbody>\n",
       "</table>\n",
       "</div>"
      ],
      "text/plain": [
       "                count unique    top freq\n",
       "Education Level                         \n",
       "Bachelor's       3829    243  Congo   33\n",
       "High School      3774    243  Korea   37\n",
       "Master's         3637    243  Korea   28\n",
       "PhD              3760    243  Congo   37"
      ]
     },
     "execution_count": 2011,
     "metadata": {},
     "output_type": "execute_result"
    }
   ],
   "source": [
    "df.groupby('Education Level')['Country'].describe()"
   ]
  },
  {
   "cell_type": "code",
   "execution_count": 2012,
   "id": "f3b2e5a1-92d9-4d39-b540-4ace508a5dc1",
   "metadata": {},
   "outputs": [
    {
     "data": {
      "text/html": [
       "<div>\n",
       "<style scoped>\n",
       "    .dataframe tbody tr th:only-of-type {\n",
       "        vertical-align: middle;\n",
       "    }\n",
       "\n",
       "    .dataframe tbody tr th {\n",
       "        vertical-align: top;\n",
       "    }\n",
       "\n",
       "    .dataframe thead th {\n",
       "        text-align: right;\n",
       "    }\n",
       "</style>\n",
       "<table border=\"1\" class=\"dataframe\">\n",
       "  <thead>\n",
       "    <tr style=\"text-align: right;\">\n",
       "      <th></th>\n",
       "      <th>count</th>\n",
       "      <th>unique</th>\n",
       "      <th>top</th>\n",
       "      <th>freq</th>\n",
       "    </tr>\n",
       "    <tr>\n",
       "      <th>Marital Status</th>\n",
       "      <th></th>\n",
       "      <th></th>\n",
       "      <th></th>\n",
       "      <th></th>\n",
       "    </tr>\n",
       "  </thead>\n",
       "  <tbody>\n",
       "    <tr>\n",
       "      <th>Divorced</th>\n",
       "      <td>3787</td>\n",
       "      <td>243</td>\n",
       "      <td>Korea</td>\n",
       "      <td>33</td>\n",
       "    </tr>\n",
       "    <tr>\n",
       "      <th>Married</th>\n",
       "      <td>3623</td>\n",
       "      <td>243</td>\n",
       "      <td>Congo</td>\n",
       "      <td>32</td>\n",
       "    </tr>\n",
       "    <tr>\n",
       "      <th>Single</th>\n",
       "      <td>3697</td>\n",
       "      <td>243</td>\n",
       "      <td>Korea</td>\n",
       "      <td>26</td>\n",
       "    </tr>\n",
       "    <tr>\n",
       "      <th>Widowed</th>\n",
       "      <td>3893</td>\n",
       "      <td>243</td>\n",
       "      <td>Congo</td>\n",
       "      <td>40</td>\n",
       "    </tr>\n",
       "  </tbody>\n",
       "</table>\n",
       "</div>"
      ],
      "text/plain": [
       "               count unique    top freq\n",
       "Marital Status                         \n",
       "Divorced        3787    243  Korea   33\n",
       "Married         3623    243  Congo   32\n",
       "Single          3697    243  Korea   26\n",
       "Widowed         3893    243  Congo   40"
      ]
     },
     "execution_count": 2012,
     "metadata": {},
     "output_type": "execute_result"
    }
   ],
   "source": [
    "df.groupby('Marital Status')['Country'].describe()"
   ]
  },
  {
   "cell_type": "code",
   "execution_count": 2013,
   "id": "4ef7f119-9170-4e2f-bc69-fbb9abdba4bc",
   "metadata": {},
   "outputs": [
    {
     "data": {
      "text/plain": [
       "Country\n",
       "Suriname                        38.7\n",
       "Belize                          38.8\n",
       "United States Virgin Islands    39.0\n",
       "Turks and Caicos Islands        39.3\n",
       "Hungary                         39.5\n",
       "                                ... \n",
       "Palau                           46.8\n",
       "Niger                           46.9\n",
       "New Caledonia                   46.9\n",
       "Ghana                           47.1\n",
       "Slovakia (Slovak Republic)      47.5\n",
       "Name: Age, Length: 243, dtype: float64"
      ]
     },
     "execution_count": 2013,
     "metadata": {},
     "output_type": "execute_result"
    }
   ],
   "source": [
    "df.groupby('Country')['Age'].mean().sort_values().round(1)"
   ]
  },
  {
   "cell_type": "code",
   "execution_count": 2014,
   "id": "b9a89caa-4eb1-4c44-8e16-a1f9b8546e95",
   "metadata": {},
   "outputs": [],
   "source": [
    "df10 = df.groupby('Country', as_index = False)['Age'].mean().sort_values(by = 'Age').round(1).head(5)"
   ]
  },
  {
   "cell_type": "code",
   "execution_count": 2015,
   "id": "d1a58e2b-0d89-4fce-ad3d-68fa8479e815",
   "metadata": {},
   "outputs": [
    {
     "data": {
      "text/plain": [
       "Text(0, 0.5, 'Age')"
      ]
     },
     "execution_count": 2015,
     "metadata": {},
     "output_type": "execute_result"
    },
    {
     "data": {
      "image/png": "[encoded data removed]",
      "text/plain": [
       "<Figure size 1000x500 with 1 Axes>"
      ]
     },
     "metadata": {},
     "output_type": "display_data"
    }
   ],
   "source": [
    "plt.figure(figsize = (10,5))\n",
    "sns.set_style('dark')\n",
    "sns.scatterplot(x = 'Country', y = 'Age', data = df10, s =100, color = '#007f5f')\n",
    "plt.gca().invert_yaxis()\n",
    "plt.title('Top 5 Youngest Countries', fontsize = 15, fontweight = 'bold')\n",
    "plt.xlabel('Country')\n",
    "plt.ylabel('Age')"
   ]
  },
  {
   "cell_type": "code",
   "execution_count": 2016,
   "id": "c85c5111-807f-4559-a0dc-7cbcd3efd4b5",
   "metadata": {},
   "outputs": [
    {
     "data": {
      "text/plain": [
       "Risk Rating\n",
       "Medium    0.983111\n",
       "Low       0.995222\n",
       "High      1.064000\n",
       "Name: Marital Status Change, dtype: float64"
      ]
     },
     "execution_count": 2016,
     "metadata": {},
     "output_type": "execute_result"
    }
   ],
   "source": [
    "df.groupby('Risk Rating')['Marital Status Change'].mean().sort_values()"
   ]
  },
  {
   "cell_type": "code",
   "execution_count": 2017,
   "id": "811d36d4-4ab4-401b-8633-e598f3b5454e",
   "metadata": {},
   "outputs": [
    {
     "data": {
      "text/plain": [
       "Gender\n",
       "Male          43.3\n",
       "Non-binary    43.4\n",
       "Female        43.6\n",
       "Name: Age, dtype: float64"
      ]
     },
     "execution_count": 2017,
     "metadata": {},
     "output_type": "execute_result"
    }
   ],
   "source": [
    "df.groupby('Gender')['Age'].mean().sort_values().round(1)"
   ]
  },
  {
   "cell_type": "code",
   "execution_count": 2032,
   "id": "7b8cb115-2891-4a66-a3cf-5c745ab07701",
   "metadata": {},
   "outputs": [
    {
     "data": {
      "text/plain": [
       "Gender\n",
       "Male          158064.1\n",
       "Female        159600.7\n",
       "Non-binary    161552.1\n",
       "Name: Assets Value, dtype: float64"
      ]
     },
     "execution_count": 2032,
     "metadata": {},
     "output_type": "execute_result"
    }
   ],
   "source": [
    "df.groupby('Gender')['Assets Value'].mean().sort_values().round(1)"
   ]
  },
  {
   "cell_type": "code",
   "execution_count": 2036,
   "id": "b3d09347-4100-4842-ba90-b8dfdf64aa16",
   "metadata": {},
   "outputs": [
    {
     "data": {
      "text/html": [
       "<div>\n",
       "<style scoped>\n",
       "    .dataframe tbody tr th:only-of-type {\n",
       "        vertical-align: middle;\n",
       "    }\n",
       "\n",
       "    .dataframe tbody tr th {\n",
       "        vertical-align: top;\n",
       "    }\n",
       "\n",
       "    .dataframe thead th {\n",
       "        text-align: right;\n",
       "    }\n",
       "</style>\n",
       "<table border=\"1\" class=\"dataframe\">\n",
       "  <thead>\n",
       "    <tr style=\"text-align: right;\">\n",
       "      <th></th>\n",
       "      <th>count</th>\n",
       "      <th>unique</th>\n",
       "      <th>top</th>\n",
       "      <th>freq</th>\n",
       "    </tr>\n",
       "    <tr>\n",
       "      <th>Gender</th>\n",
       "      <th></th>\n",
       "      <th></th>\n",
       "      <th></th>\n",
       "      <th></th>\n",
       "    </tr>\n",
       "  </thead>\n",
       "  <tbody>\n",
       "    <tr>\n",
       "      <th>Female</th>\n",
       "      <td>4990</td>\n",
       "      <td>4</td>\n",
       "      <td>Business</td>\n",
       "      <td>1259</td>\n",
       "    </tr>\n",
       "    <tr>\n",
       "      <th>Male</th>\n",
       "      <td>4951</td>\n",
       "      <td>4</td>\n",
       "      <td>Home</td>\n",
       "      <td>1254</td>\n",
       "    </tr>\n",
       "    <tr>\n",
       "      <th>Non-binary</th>\n",
       "      <td>5059</td>\n",
       "      <td>4</td>\n",
       "      <td>Personal</td>\n",
       "      <td>1296</td>\n",
       "    </tr>\n",
       "  </tbody>\n",
       "</table>\n",
       "</div>"
      ],
      "text/plain": [
       "           count unique       top  freq\n",
       "Gender                                 \n",
       "Female      4990      4  Business  1259\n",
       "Male        4951      4      Home  1254\n",
       "Non-binary  5059      4  Personal  1296"
      ]
     },
     "execution_count": 2036,
     "metadata": {},
     "output_type": "execute_result"
    }
   ],
   "source": [
    "df.groupby('Gender')['Loan Purpose'].describe()"
   ]
  },
  {
   "cell_type": "code",
   "execution_count": 2038,
   "id": "ee9249d9-8e44-4aba-9722-fb0e56dd01e7",
   "metadata": {},
   "outputs": [
    {
     "data": {
      "text/html": [
       "<div>\n",
       "<style scoped>\n",
       "    .dataframe tbody tr th:only-of-type {\n",
       "        vertical-align: middle;\n",
       "    }\n",
       "\n",
       "    .dataframe tbody tr th {\n",
       "        vertical-align: top;\n",
       "    }\n",
       "\n",
       "    .dataframe thead th {\n",
       "        text-align: right;\n",
       "    }\n",
       "</style>\n",
       "<table border=\"1\" class=\"dataframe\">\n",
       "  <thead>\n",
       "    <tr style=\"text-align: right;\">\n",
       "      <th></th>\n",
       "      <th>count</th>\n",
       "      <th>unique</th>\n",
       "      <th>top</th>\n",
       "      <th>freq</th>\n",
       "    </tr>\n",
       "    <tr>\n",
       "      <th>Age</th>\n",
       "      <th></th>\n",
       "      <th></th>\n",
       "      <th></th>\n",
       "      <th></th>\n",
       "    </tr>\n",
       "  </thead>\n",
       "  <tbody>\n",
       "    <tr>\n",
       "      <th>18</th>\n",
       "      <td>273</td>\n",
       "      <td>4</td>\n",
       "      <td>Business</td>\n",
       "      <td>81</td>\n",
       "    </tr>\n",
       "    <tr>\n",
       "      <th>19</th>\n",
       "      <td>285</td>\n",
       "      <td>4</td>\n",
       "      <td>Auto</td>\n",
       "      <td>80</td>\n",
       "    </tr>\n",
       "    <tr>\n",
       "      <th>20</th>\n",
       "      <td>287</td>\n",
       "      <td>4</td>\n",
       "      <td>Auto</td>\n",
       "      <td>75</td>\n",
       "    </tr>\n",
       "    <tr>\n",
       "      <th>21</th>\n",
       "      <td>291</td>\n",
       "      <td>4</td>\n",
       "      <td>Personal</td>\n",
       "      <td>78</td>\n",
       "    </tr>\n",
       "    <tr>\n",
       "      <th>22</th>\n",
       "      <td>275</td>\n",
       "      <td>4</td>\n",
       "      <td>Business</td>\n",
       "      <td>73</td>\n",
       "    </tr>\n",
       "    <tr>\n",
       "      <th>23</th>\n",
       "      <td>285</td>\n",
       "      <td>4</td>\n",
       "      <td>Auto</td>\n",
       "      <td>80</td>\n",
       "    </tr>\n",
       "    <tr>\n",
       "      <th>24</th>\n",
       "      <td>261</td>\n",
       "      <td>4</td>\n",
       "      <td>Business</td>\n",
       "      <td>70</td>\n",
       "    </tr>\n",
       "    <tr>\n",
       "      <th>25</th>\n",
       "      <td>291</td>\n",
       "      <td>4</td>\n",
       "      <td>Personal</td>\n",
       "      <td>83</td>\n",
       "    </tr>\n",
       "    <tr>\n",
       "      <th>26</th>\n",
       "      <td>281</td>\n",
       "      <td>4</td>\n",
       "      <td>Auto</td>\n",
       "      <td>74</td>\n",
       "    </tr>\n",
       "    <tr>\n",
       "      <th>27</th>\n",
       "      <td>284</td>\n",
       "      <td>4</td>\n",
       "      <td>Personal</td>\n",
       "      <td>79</td>\n",
       "    </tr>\n",
       "    <tr>\n",
       "      <th>28</th>\n",
       "      <td>275</td>\n",
       "      <td>4</td>\n",
       "      <td>Personal</td>\n",
       "      <td>76</td>\n",
       "    </tr>\n",
       "    <tr>\n",
       "      <th>29</th>\n",
       "      <td>297</td>\n",
       "      <td>4</td>\n",
       "      <td>Business</td>\n",
       "      <td>81</td>\n",
       "    </tr>\n",
       "    <tr>\n",
       "      <th>30</th>\n",
       "      <td>323</td>\n",
       "      <td>4</td>\n",
       "      <td>Home</td>\n",
       "      <td>90</td>\n",
       "    </tr>\n",
       "    <tr>\n",
       "      <th>31</th>\n",
       "      <td>273</td>\n",
       "      <td>4</td>\n",
       "      <td>Home</td>\n",
       "      <td>75</td>\n",
       "    </tr>\n",
       "    <tr>\n",
       "      <th>32</th>\n",
       "      <td>295</td>\n",
       "      <td>4</td>\n",
       "      <td>Auto</td>\n",
       "      <td>78</td>\n",
       "    </tr>\n",
       "    <tr>\n",
       "      <th>33</th>\n",
       "      <td>302</td>\n",
       "      <td>4</td>\n",
       "      <td>Business</td>\n",
       "      <td>88</td>\n",
       "    </tr>\n",
       "    <tr>\n",
       "      <th>34</th>\n",
       "      <td>323</td>\n",
       "      <td>4</td>\n",
       "      <td>Auto</td>\n",
       "      <td>86</td>\n",
       "    </tr>\n",
       "    <tr>\n",
       "      <th>35</th>\n",
       "      <td>296</td>\n",
       "      <td>4</td>\n",
       "      <td>Business</td>\n",
       "      <td>76</td>\n",
       "    </tr>\n",
       "    <tr>\n",
       "      <th>36</th>\n",
       "      <td>298</td>\n",
       "      <td>4</td>\n",
       "      <td>Auto</td>\n",
       "      <td>79</td>\n",
       "    </tr>\n",
       "    <tr>\n",
       "      <th>37</th>\n",
       "      <td>276</td>\n",
       "      <td>4</td>\n",
       "      <td>Home</td>\n",
       "      <td>80</td>\n",
       "    </tr>\n",
       "    <tr>\n",
       "      <th>38</th>\n",
       "      <td>293</td>\n",
       "      <td>4</td>\n",
       "      <td>Home</td>\n",
       "      <td>76</td>\n",
       "    </tr>\n",
       "    <tr>\n",
       "      <th>39</th>\n",
       "      <td>297</td>\n",
       "      <td>4</td>\n",
       "      <td>Business</td>\n",
       "      <td>81</td>\n",
       "    </tr>\n",
       "    <tr>\n",
       "      <th>40</th>\n",
       "      <td>319</td>\n",
       "      <td>4</td>\n",
       "      <td>Business</td>\n",
       "      <td>96</td>\n",
       "    </tr>\n",
       "    <tr>\n",
       "      <th>41</th>\n",
       "      <td>297</td>\n",
       "      <td>4</td>\n",
       "      <td>Personal</td>\n",
       "      <td>86</td>\n",
       "    </tr>\n",
       "    <tr>\n",
       "      <th>42</th>\n",
       "      <td>300</td>\n",
       "      <td>4</td>\n",
       "      <td>Home</td>\n",
       "      <td>78</td>\n",
       "    </tr>\n",
       "    <tr>\n",
       "      <th>43</th>\n",
       "      <td>331</td>\n",
       "      <td>4</td>\n",
       "      <td>Business</td>\n",
       "      <td>93</td>\n",
       "    </tr>\n",
       "    <tr>\n",
       "      <th>44</th>\n",
       "      <td>243</td>\n",
       "      <td>4</td>\n",
       "      <td>Auto</td>\n",
       "      <td>67</td>\n",
       "    </tr>\n",
       "    <tr>\n",
       "      <th>45</th>\n",
       "      <td>311</td>\n",
       "      <td>4</td>\n",
       "      <td>Home</td>\n",
       "      <td>93</td>\n",
       "    </tr>\n",
       "    <tr>\n",
       "      <th>46</th>\n",
       "      <td>311</td>\n",
       "      <td>4</td>\n",
       "      <td>Personal</td>\n",
       "      <td>99</td>\n",
       "    </tr>\n",
       "    <tr>\n",
       "      <th>47</th>\n",
       "      <td>270</td>\n",
       "      <td>4</td>\n",
       "      <td>Auto</td>\n",
       "      <td>74</td>\n",
       "    </tr>\n",
       "    <tr>\n",
       "      <th>48</th>\n",
       "      <td>264</td>\n",
       "      <td>4</td>\n",
       "      <td>Home</td>\n",
       "      <td>73</td>\n",
       "    </tr>\n",
       "    <tr>\n",
       "      <th>49</th>\n",
       "      <td>286</td>\n",
       "      <td>4</td>\n",
       "      <td>Personal</td>\n",
       "      <td>82</td>\n",
       "    </tr>\n",
       "    <tr>\n",
       "      <th>50</th>\n",
       "      <td>300</td>\n",
       "      <td>4</td>\n",
       "      <td>Auto</td>\n",
       "      <td>82</td>\n",
       "    </tr>\n",
       "    <tr>\n",
       "      <th>51</th>\n",
       "      <td>278</td>\n",
       "      <td>4</td>\n",
       "      <td>Personal</td>\n",
       "      <td>79</td>\n",
       "    </tr>\n",
       "    <tr>\n",
       "      <th>52</th>\n",
       "      <td>296</td>\n",
       "      <td>4</td>\n",
       "      <td>Home</td>\n",
       "      <td>77</td>\n",
       "    </tr>\n",
       "    <tr>\n",
       "      <th>53</th>\n",
       "      <td>275</td>\n",
       "      <td>4</td>\n",
       "      <td>Personal</td>\n",
       "      <td>75</td>\n",
       "    </tr>\n",
       "    <tr>\n",
       "      <th>54</th>\n",
       "      <td>298</td>\n",
       "      <td>4</td>\n",
       "      <td>Auto</td>\n",
       "      <td>81</td>\n",
       "    </tr>\n",
       "    <tr>\n",
       "      <th>55</th>\n",
       "      <td>272</td>\n",
       "      <td>4</td>\n",
       "      <td>Home</td>\n",
       "      <td>80</td>\n",
       "    </tr>\n",
       "    <tr>\n",
       "      <th>56</th>\n",
       "      <td>289</td>\n",
       "      <td>4</td>\n",
       "      <td>Home</td>\n",
       "      <td>80</td>\n",
       "    </tr>\n",
       "    <tr>\n",
       "      <th>57</th>\n",
       "      <td>274</td>\n",
       "      <td>4</td>\n",
       "      <td>Personal</td>\n",
       "      <td>75</td>\n",
       "    </tr>\n",
       "    <tr>\n",
       "      <th>58</th>\n",
       "      <td>271</td>\n",
       "      <td>4</td>\n",
       "      <td>Auto</td>\n",
       "      <td>82</td>\n",
       "    </tr>\n",
       "    <tr>\n",
       "      <th>59</th>\n",
       "      <td>299</td>\n",
       "      <td>4</td>\n",
       "      <td>Home</td>\n",
       "      <td>76</td>\n",
       "    </tr>\n",
       "    <tr>\n",
       "      <th>60</th>\n",
       "      <td>267</td>\n",
       "      <td>4</td>\n",
       "      <td>Personal</td>\n",
       "      <td>70</td>\n",
       "    </tr>\n",
       "    <tr>\n",
       "      <th>61</th>\n",
       "      <td>299</td>\n",
       "      <td>4</td>\n",
       "      <td>Business</td>\n",
       "      <td>78</td>\n",
       "    </tr>\n",
       "    <tr>\n",
       "      <th>62</th>\n",
       "      <td>304</td>\n",
       "      <td>4</td>\n",
       "      <td>Auto</td>\n",
       "      <td>90</td>\n",
       "    </tr>\n",
       "    <tr>\n",
       "      <th>63</th>\n",
       "      <td>255</td>\n",
       "      <td>4</td>\n",
       "      <td>Home</td>\n",
       "      <td>77</td>\n",
       "    </tr>\n",
       "    <tr>\n",
       "      <th>64</th>\n",
       "      <td>311</td>\n",
       "      <td>4</td>\n",
       "      <td>Auto</td>\n",
       "      <td>92</td>\n",
       "    </tr>\n",
       "    <tr>\n",
       "      <th>65</th>\n",
       "      <td>285</td>\n",
       "      <td>4</td>\n",
       "      <td>Home</td>\n",
       "      <td>88</td>\n",
       "    </tr>\n",
       "    <tr>\n",
       "      <th>66</th>\n",
       "      <td>303</td>\n",
       "      <td>4</td>\n",
       "      <td>Business</td>\n",
       "      <td>92</td>\n",
       "    </tr>\n",
       "    <tr>\n",
       "      <th>67</th>\n",
       "      <td>265</td>\n",
       "      <td>4</td>\n",
       "      <td>Auto</td>\n",
       "      <td>76</td>\n",
       "    </tr>\n",
       "    <tr>\n",
       "      <th>68</th>\n",
       "      <td>284</td>\n",
       "      <td>4</td>\n",
       "      <td>Personal</td>\n",
       "      <td>76</td>\n",
       "    </tr>\n",
       "    <tr>\n",
       "      <th>69</th>\n",
       "      <td>282</td>\n",
       "      <td>4</td>\n",
       "      <td>Business</td>\n",
       "      <td>76</td>\n",
       "    </tr>\n",
       "  </tbody>\n",
       "</table>\n",
       "</div>"
      ],
      "text/plain": [
       "    count unique       top freq\n",
       "Age                            \n",
       "18    273      4  Business   81\n",
       "19    285      4      Auto   80\n",
       "20    287      4      Auto   75\n",
       "21    291      4  Personal   78\n",
       "22    275      4  Business   73\n",
       "23    285      4      Auto   80\n",
       "24    261      4  Business   70\n",
       "25    291      4  Personal   83\n",
       "26    281      4      Auto   74\n",
       "27    284      4  Personal   79\n",
       "28    275      4  Personal   76\n",
       "29    297      4  Business   81\n",
       "30    323      4      Home   90\n",
       "31    273      4      Home   75\n",
       "32    295      4      Auto   78\n",
       "33    302      4  Business   88\n",
       "34    323      4      Auto   86\n",
       "35    296      4  Business   76\n",
       "36    298      4      Auto   79\n",
       "37    276      4      Home   80\n",
       "38    293      4      Home   76\n",
       "39    297      4  Business   81\n",
       "40    319      4  Business   96\n",
       "41    297      4  Personal   86\n",
       "42    300      4      Home   78\n",
       "43    331      4  Business   93\n",
       "44    243      4      Auto   67\n",
       "45    311      4      Home   93\n",
       "46    311      4  Personal   99\n",
       "47    270      4      Auto   74\n",
       "48    264      4      Home   73\n",
       "49    286      4  Personal   82\n",
       "50    300      4      Auto   82\n",
       "51    278      4  Personal   79\n",
       "52    296      4      Home   77\n",
       "53    275      4  Personal   75\n",
       "54    298      4      Auto   81\n",
       "55    272      4      Home   80\n",
       "56    289      4      Home   80\n",
       "57    274      4  Personal   75\n",
       "58    271      4      Auto   82\n",
       "59    299      4      Home   76\n",
       "60    267      4  Personal   70\n",
       "61    299      4  Business   78\n",
       "62    304      4      Auto   90\n",
       "63    255      4      Home   77\n",
       "64    311      4      Auto   92\n",
       "65    285      4      Home   88\n",
       "66    303      4  Business   92\n",
       "67    265      4      Auto   76\n",
       "68    284      4  Personal   76\n",
       "69    282      4  Business   76"
      ]
     },
     "execution_count": 2038,
     "metadata": {},
     "output_type": "execute_result"
    }
   ],
   "source": [
    "df.groupby('Age')['Loan Purpose'].describe()"
   ]
  },
  {
   "cell_type": "code",
   "execution_count": 2041,
   "id": "9f515376-d664-4808-9e9b-2b3c503f31b0",
   "metadata": {},
   "outputs": [
    {
     "data": {
      "text/plain": [
       "Payment History\n",
       "Fair          99943024.5\n",
       "Poor         102392144.3\n",
       "Excellent    103567271.2\n",
       "Good         105845254.0\n",
       "Name: Loan Amount, dtype: float64"
      ]
     },
     "execution_count": 2041,
     "metadata": {},
     "output_type": "execute_result"
    }
   ],
   "source": [
    "df.groupby('Payment History')['Loan Amount'].sum().sort_values().round(1)"
   ]
  },
  {
   "cell_type": "code",
   "execution_count": 2043,
   "id": "4fdbfebb-6025-4ffc-b88f-213202b32400",
   "metadata": {},
   "outputs": [],
   "source": [
    "df11 = df.groupby('Payment History', as_index = False)['Loan Amount'].sum().sort_values(by = 'Loan Amount').round(1)"
   ]
  },
  {
   "cell_type": "code",
   "execution_count": 2089,
   "id": "352d656b-b44b-4d37-b18d-8189f4aa29f0",
   "metadata": {},
   "outputs": [
    {
     "data": {
      "text/plain": [
       "Text(0, 0.5, 'Payment History')"
      ]
     },
     "execution_count": 2089,
     "metadata": {},
     "output_type": "execute_result"
    },
    {
     "data": {
      "image/png": "[encoded data removed]",
      "text/plain": [
       "<Figure size 1000x500 with 1 Axes>"
      ]
     },
     "metadata": {},
     "output_type": "display_data"
    }
   ],
   "source": [
    "plt.figure(figsize = (10,5))\n",
    "sns.set_style('white')\n",
    "sns.barplot(x = 'Loan Amount', y = 'Payment History', data = df11, color = '#ac0018')\n",
    "plt.gca().invert_yaxis()\n",
    "plt.title('Total Loan Amount By Payment History', fontsize = 15, fontweight = 'bold')\n",
    "plt.xlabel('Loan Amount')\n",
    "plt.ylabel('Payment History')"
   ]
  },
  {
   "cell_type": "code",
   "execution_count": 2049,
   "id": "94716343-2941-411a-8b7a-df81b9618648",
   "metadata": {},
   "outputs": [
    {
     "data": {
      "text/html": [
       "<div>\n",
       "<style scoped>\n",
       "    .dataframe tbody tr th:only-of-type {\n",
       "        vertical-align: middle;\n",
       "    }\n",
       "\n",
       "    .dataframe tbody tr th {\n",
       "        vertical-align: top;\n",
       "    }\n",
       "\n",
       "    .dataframe thead th {\n",
       "        text-align: right;\n",
       "    }\n",
       "</style>\n",
       "<table border=\"1\" class=\"dataframe\">\n",
       "  <thead>\n",
       "    <tr style=\"text-align: right;\">\n",
       "      <th></th>\n",
       "      <th>count</th>\n",
       "      <th>unique</th>\n",
       "      <th>top</th>\n",
       "      <th>freq</th>\n",
       "    </tr>\n",
       "    <tr>\n",
       "      <th>Payment History</th>\n",
       "      <th></th>\n",
       "      <th></th>\n",
       "      <th></th>\n",
       "      <th></th>\n",
       "    </tr>\n",
       "  </thead>\n",
       "  <tbody>\n",
       "    <tr>\n",
       "      <th>Excellent</th>\n",
       "      <td>3789</td>\n",
       "      <td>4</td>\n",
       "      <td>Personal</td>\n",
       "      <td>989</td>\n",
       "    </tr>\n",
       "    <tr>\n",
       "      <th>Fair</th>\n",
       "      <td>3673</td>\n",
       "      <td>4</td>\n",
       "      <td>Home</td>\n",
       "      <td>966</td>\n",
       "    </tr>\n",
       "    <tr>\n",
       "      <th>Good</th>\n",
       "      <td>3822</td>\n",
       "      <td>4</td>\n",
       "      <td>Personal</td>\n",
       "      <td>985</td>\n",
       "    </tr>\n",
       "    <tr>\n",
       "      <th>Poor</th>\n",
       "      <td>3716</td>\n",
       "      <td>4</td>\n",
       "      <td>Auto</td>\n",
       "      <td>952</td>\n",
       "    </tr>\n",
       "  </tbody>\n",
       "</table>\n",
       "</div>"
      ],
      "text/plain": [
       "                count unique       top freq\n",
       "Payment History                            \n",
       "Excellent        3789      4  Personal  989\n",
       "Fair             3673      4      Home  966\n",
       "Good             3822      4  Personal  985\n",
       "Poor             3716      4      Auto  952"
      ]
     },
     "execution_count": 2049,
     "metadata": {},
     "output_type": "execute_result"
    }
   ],
   "source": [
    "df.groupby('Payment History')['Loan Purpose'].describe()"
   ]
  },
  {
   "cell_type": "code",
   "execution_count": 2051,
   "id": "6041454e-192c-4784-b18f-bed7d071dd47",
   "metadata": {},
   "outputs": [
    {
     "data": {
      "text/html": [
       "<div>\n",
       "<style scoped>\n",
       "    .dataframe tbody tr th:only-of-type {\n",
       "        vertical-align: middle;\n",
       "    }\n",
       "\n",
       "    .dataframe tbody tr th {\n",
       "        vertical-align: top;\n",
       "    }\n",
       "\n",
       "    .dataframe thead th {\n",
       "        text-align: right;\n",
       "    }\n",
       "</style>\n",
       "<table border=\"1\" class=\"dataframe\">\n",
       "  <thead>\n",
       "    <tr style=\"text-align: right;\">\n",
       "      <th></th>\n",
       "      <th>count</th>\n",
       "      <th>unique</th>\n",
       "      <th>top</th>\n",
       "      <th>freq</th>\n",
       "    </tr>\n",
       "    <tr>\n",
       "      <th>Loan Purpose</th>\n",
       "      <th></th>\n",
       "      <th></th>\n",
       "      <th></th>\n",
       "      <th></th>\n",
       "    </tr>\n",
       "  </thead>\n",
       "  <tbody>\n",
       "    <tr>\n",
       "      <th>Auto</th>\n",
       "      <td>3725</td>\n",
       "      <td>4</td>\n",
       "      <td>Good</td>\n",
       "      <td>965</td>\n",
       "    </tr>\n",
       "    <tr>\n",
       "      <th>Business</th>\n",
       "      <td>3738</td>\n",
       "      <td>4</td>\n",
       "      <td>Excellent</td>\n",
       "      <td>964</td>\n",
       "    </tr>\n",
       "    <tr>\n",
       "      <th>Home</th>\n",
       "      <td>3766</td>\n",
       "      <td>4</td>\n",
       "      <td>Fair</td>\n",
       "      <td>966</td>\n",
       "    </tr>\n",
       "    <tr>\n",
       "      <th>Personal</th>\n",
       "      <td>3771</td>\n",
       "      <td>4</td>\n",
       "      <td>Excellent</td>\n",
       "      <td>989</td>\n",
       "    </tr>\n",
       "  </tbody>\n",
       "</table>\n",
       "</div>"
      ],
      "text/plain": [
       "             count unique        top freq\n",
       "Loan Purpose                             \n",
       "Auto          3725      4       Good  965\n",
       "Business      3738      4  Excellent  964\n",
       "Home          3766      4       Fair  966\n",
       "Personal      3771      4  Excellent  989"
      ]
     },
     "execution_count": 2051,
     "metadata": {},
     "output_type": "execute_result"
    }
   ],
   "source": [
    "df.groupby('Loan Purpose')['Payment History'].describe()"
   ]
  }
 ],
 "metadata": {
  "kernelspec": {
   "display_name": "Python 3 (ipykernel)",
   "language": "python",
   "name": "python3"
  },
  "language_info": {
   "codemirror_mode": {
    "name": "ipython",
    "version": 3
   },
   "file_extension": ".py",
   "mimetype": "text/x-python",
   "name": "python",
   "nbconvert_exporter": "python",
   "pygments_lexer": "ipython3",
   "version": "3.12.4"
  }
 },
 "nbformat": 4,
 "nbformat_minor": 5
}
